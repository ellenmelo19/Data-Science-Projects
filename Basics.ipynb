{
 "cells": [
  {
   "cell_type": "markdown",
   "metadata": {},
   "source": [
    "## Sintaxe do Markdown"
   ]
  },
  {
   "cell_type": "markdown",
   "metadata": {},
   "source": [
    "No código abaixo nós:\n",
    "\n",
    "- Abrimos o arquivo AppleStore.csv usando a função open() e atribuímos o output a uma variável chamada opened_file.\n",
    "- Importamos a função reader() do csv module.\n",
    "- Lemos o arquivo aberto usando a função reader() e atribuímos o output à variável read_file.\n",
    "- Transformamos o arquivo lido em  uma lista de listas usando list()e salvamos numa variável chamada apps_data.\n",
    "- Exibimos o cabeçalho e as primeiras três linhas dos dados.\n"
   ]
  },
  {
   "cell_type": "code",
   "execution_count": 3,
   "metadata": {},
   "outputs": [
    {
     "data": {
      "text/plain": [
       "[['id',\n",
       "  'track_name',\n",
       "  'size_bytes',\n",
       "  'currency',\n",
       "  'price',\n",
       "  'rating_count_tot',\n",
       "  'rating_count_ver',\n",
       "  'user_rating',\n",
       "  'user_rating_ver',\n",
       "  'ver',\n",
       "  'cont_rating',\n",
       "  'prime_genre',\n",
       "  'sup_devices.num',\n",
       "  'ipadSc_urls.num',\n",
       "  'lang.num',\n",
       "  'vpp_lic'],\n",
       " ['284882215',\n",
       "  'Facebook',\n",
       "  '389879808',\n",
       "  'USD',\n",
       "  '0.0',\n",
       "  '2974676',\n",
       "  '212',\n",
       "  '3.5',\n",
       "  '3.5',\n",
       "  '95.0',\n",
       "  '4+',\n",
       "  'Social Networking',\n",
       "  '37',\n",
       "  '1',\n",
       "  '29',\n",
       "  '1'],\n",
       " ['389801252',\n",
       "  'Instagram',\n",
       "  '113954816',\n",
       "  'USD',\n",
       "  '0.0',\n",
       "  '2161558',\n",
       "  '1289',\n",
       "  '4.5',\n",
       "  '4.0',\n",
       "  '10.23',\n",
       "  '12+',\n",
       "  'Photo & Video',\n",
       "  '37',\n",
       "  '0',\n",
       "  '29',\n",
       "  '1']]"
      ]
     },
     "execution_count": 3,
     "metadata": {},
     "output_type": "execute_result"
    }
   ],
   "source": [
    "opened_file = open('AppleStore.csv')\n",
    "from csv import reader\n",
    "read_file = reader(opened_file)\n",
    "apps_data = list(read_file)\n",
    "\n",
    "apps_data[:3]"
   ]
  },
  {
   "cell_type": "markdown",
   "metadata": {},
   "source": [
    "Os dados acima contém informações sobre mais de 7000 aplicativos iOS mobile. Os dados foram coletados do iTunes Search API pelo engenheiro de dados Ramanathan Perumal. A documentação dos dados pode se encontrada [nessa página](https://www.kaggle.com/datasets/ramamet4/app-store-apple-data-set-10k-apps), onde você também poderá baixar os dados.\n",
    "\n"
   ]
  },
  {
   "cell_type": "markdown",
   "metadata": {},
   "source": [
    "Aqui está uma tabela que explica o que cada coluna no conjunto de dados descreve:"
   ]
  },
  {
   "cell_type": "markdown",
   "metadata": {},
   "source": [
    "| Coluna            | Descrição                                            |\n",
    "| :-----------------| :--------------------------------------------------- |\n",
    "|\"id\"               |ID do app                                             |\n",
    "|\"track_name\"       |Nome do app                                           |\n",
    "|\"size_bytes\"       |Tamanho(bytes)                                        |\n",
    "|\"currency\"         |Tipo                                                  |\n",
    "|\"price\"            |Preço                                                 |\n",
    "|\"rating_count_tot\" |Classificação do usuário (para todas as versões)      |\n",
    "|\"rating_count_ver\" |Classificação do usuário (para a versão atual)        |\n",
    "|\"user_rating\"      |Classificação média do usuário (para todas as versões)|\n",
    "|\"user_rating_ver\"  |Classificação média do usuário (para a versão atual)  |\n",
    "|\"ver\"              |Código da versão mais recente                         |\n",
    "|\"cont_rating\"      |Classificação do Conteúdo                             |\n",
    "|\"prime_genre\"      |Gênero primário                                       |\n",
    "|\"sup_devices.num\"  |Número de dispositivos de suporte                     |\n",
    "|\"ipadSc_urls.num\"  |Número de screenshots mostradas para exibição         |\n",
    "|\"lang.num\"         |Número de linguagens suportadas                       |\n",
    "|\"vpp_lic\"          |Licenciamento baseado em dispositivo Vpp ativado      |\n",
    "\n",
    "\n",
    "\n",
    "\n",
    "\n",
    "\n",
    "\n",
    "\n"
   ]
  }
 ],
 "metadata": {
  "kernelspec": {
   "display_name": "Python 3",
   "language": "python",
   "name": "python3"
  },
  "language_info": {
   "codemirror_mode": {
    "name": "ipython",
    "version": 3
   },
   "file_extension": ".py",
   "mimetype": "text/x-python",
   "name": "python",
   "nbconvert_exporter": "python",
   "pygments_lexer": "ipython3",
   "version": "3.8.2"
  }
 },
 "nbformat": 4,
 "nbformat_minor": 2
}
