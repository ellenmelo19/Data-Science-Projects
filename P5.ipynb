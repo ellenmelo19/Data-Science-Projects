{
 "cells": [
  {
   "cell_type": "markdown",
   "metadata": {
    "collapsed": true
   },
   "source": [
    "# Explorando os dados de vendas de carros do eBay"
   ]
  },
  {
   "cell_type": "markdown",
   "metadata": {},
   "source": [
    "Antes de mais nada, para nossa análise, levemos em conta que ao contrário dos veículos novos, os carros usados já sofreram alguns graus de desgaste.\n",
    "\n",
    "Você pode ser um comprador de primeira viagem procurando seu primeiro carro usado ou um entusiasta rastreando aquele negócio de melhor valor. Sites de carros simplificam a experiência de compra com listagens detalhadas e pesquisáveis, avaliações de carros, guias de compradores e muito mais. Esses sites não apenas ajudam os compradores a encontrar carros, eles são um excelente recurso para avaliar as opções de compra em termos de valor potencial pelo dinheiro pago.\n",
    "\n",
    "Exploraremos um conjunto de dados de carros usados do eBay Kleinanzeigen, uma seção de classificados do site alemão do eBay. Nosso objetivo é obter alguns insights sobre a natureza e a popularidade dos carros listados e, em seguida, entender quais carros valem mais a pena para compradores preocupados com o preço."
   ]
  },
  {
   "cell_type": "markdown",
   "metadata": {},
   "source": [
    "## Visão geral"
   ]
  },
  {
   "cell_type": "markdown",
   "metadata": {},
   "source": [
    "Das listagens do eBay Kleinanzeigen, observamos que mesmo um veículo com baixa quilometragem pode suportar mais do que seu quinhão de desgaste, impactando negativamente o valor. Portanto, é essencial criar uma métrica que combine preço, danos não reparados e quilometragem para determinar o valor geral de uma compra potencial."
   ]
  },
  {
   "cell_type": "markdown",
   "metadata": {},
   "source": [
    "## Dados\n"
   ]
  },
  {
   "cell_type": "markdown",
   "metadata": {},
   "source": [
    "Os dados originais foram simplificados para facilitar o trabalho. Você pode ter acesso ao conjunto de dados original por meio deste [link](https://data.world/data-society/used-cars-data)."
   ]
  },
  {
   "cell_type": "markdown",
   "metadata": {},
   "source": [
    "Visão geral das 20 colunas do conjunto de dados:"
   ]
  },
  {
   "cell_type": "markdown",
   "metadata": {},
   "source": [
    "`dateCrawled:`- Quando este anúncio foi buscado pela primeira vez. Todos os valores são obtidos a partir desta data.\n",
    "\n",
    "`name`:- Nome do carro.\n",
    "\n",
    "`seller`:- Se o vendedor é particular ou revendedor.\n",
    "\n",
    "`offerType`:- O tipo de listagem\n",
    "\n",
    "`price`:- O preço no anúncio para vender o carro.\n",
    "\n",
    "`abtest`:- Se a listagem está incluída em um teste A/B.\n",
    "\n",
    "`VehicleType`: - O tipo de veículo.\n",
    "\n",
    "`yearOfRegistration` - O ano em que o carro foi registrado pela primeira vez.\n",
    "\n",
    "`gearbox`:- O tipo de transmissão.\n",
    "\n",
    "`powerPS`:- A potência do carro em PS.\n",
    "\n",
    "`model`:- O nome do modelo do carro.\n",
    "\n",
    "`kilometer`:- Quantos quilômetros o carro percorreu.\n",
    "\n",
    "`monthOfRegistration`:- O mês em que o carro foi registrado pela primeira vez.\n",
    "\n",
    "`fuelType`:- Que tipo de combustível o carro usa.\n",
    "\n",
    "`brand`:- A marca do carro.\n",
    "\n",
    "`notRepairedDamage`:- Se o carro tiver um dano que ainda não foi reparado.\n",
    "\n",
    "`dateCreated`: - A data em que a listagem do eBay foi criada.\n",
    "\n",
    "`nrOfPictures`:- O número de fotos no anúncio.\n",
    "\n",
    "`postalCode`:- O código postal da localização do veículo.\n",
    "\n",
    "`lastSeenOnline`:- Quando o rastreador viu este anúncio pela última vez online.\n"
   ]
  },
  {
   "cell_type": "markdown",
   "metadata": {},
   "source": [
    "## Importando Bibliotecas"
   ]
  },
  {
   "cell_type": "code",
   "execution_count": 1,
   "metadata": {},
   "outputs": [],
   "source": [
    "# importar bibliotecas\n",
    "import pandas as pd\n",
    "import numpy as np\n",
    "\n",
    "import matplotlib as mpl\n",
    "import matplotlib.pyplot as plt\n",
    "import math\n",
    "\n",
    "%matplotlib inline "
   ]
  },
  {
   "cell_type": "code",
   "execution_count": 2,
   "metadata": {},
   "outputs": [
    {
     "name": "stdout",
     "output_type": "stream",
     "text": [
      "O arquivo contém 20 colunas e  50000 linhas\n"
     ]
    }
   ],
   "source": [
    "# ler dados\n",
    "autos = pd.read_csv(\"autos.csv\", encoding = 'Latin-1')\n",
    "print(\"O arquivo contém\", len(autos.columns), \"colunas e \", len(autos.index), \"linhas\" )"
   ]
  },
  {
   "cell_type": "markdown",
   "metadata": {},
   "source": [
    "## Examinando os dados"
   ]
  },
  {
   "cell_type": "code",
   "execution_count": 3,
   "metadata": {},
   "outputs": [
    {
     "name": "stdout",
     "output_type": "stream",
     "text": [
      "<class 'pandas.core.frame.DataFrame'>\n",
      "RangeIndex: 50000 entries, 0 to 49999\n",
      "Data columns (total 20 columns):\n",
      " #   Column               Non-Null Count  Dtype \n",
      "---  ------               --------------  ----- \n",
      " 0   dateCrawled          50000 non-null  object\n",
      " 1   name                 50000 non-null  object\n",
      " 2   seller               50000 non-null  object\n",
      " 3   offerType            50000 non-null  object\n",
      " 4   price                50000 non-null  object\n",
      " 5   abtest               50000 non-null  object\n",
      " 6   vehicleType          44905 non-null  object\n",
      " 7   yearOfRegistration   50000 non-null  int64 \n",
      " 8   gearbox              47320 non-null  object\n",
      " 9   powerPS              50000 non-null  int64 \n",
      " 10  model                47242 non-null  object\n",
      " 11  odometer             50000 non-null  object\n",
      " 12  monthOfRegistration  50000 non-null  int64 \n",
      " 13  fuelType             45518 non-null  object\n",
      " 14  brand                50000 non-null  object\n",
      " 15  notRepairedDamage    40171 non-null  object\n",
      " 16  dateCreated          50000 non-null  object\n",
      " 17  nrOfPictures         50000 non-null  int64 \n",
      " 18  postalCode           50000 non-null  int64 \n",
      " 19  lastSeen             50000 non-null  object\n",
      "dtypes: int64(5), object(15)\n",
      "memory usage: 7.6+ MB\n"
     ]
    }
   ],
   "source": [
    "# estatísticas\n",
    "autos.info()"
   ]
  },
  {
   "cell_type": "code",
   "execution_count": 4,
   "metadata": {},
   "outputs": [
    {
     "data": {
      "text/html": [
       "<div>\n",
       "<style scoped>\n",
       "    .dataframe tbody tr th:only-of-type {\n",
       "        vertical-align: middle;\n",
       "    }\n",
       "\n",
       "    .dataframe tbody tr th {\n",
       "        vertical-align: top;\n",
       "    }\n",
       "\n",
       "    .dataframe thead th {\n",
       "        text-align: right;\n",
       "    }\n",
       "</style>\n",
       "<table border=\"1\" class=\"dataframe\">\n",
       "  <thead>\n",
       "    <tr style=\"text-align: right;\">\n",
       "      <th></th>\n",
       "      <th>dateCrawled</th>\n",
       "      <th>name</th>\n",
       "      <th>seller</th>\n",
       "      <th>offerType</th>\n",
       "      <th>price</th>\n",
       "      <th>abtest</th>\n",
       "      <th>vehicleType</th>\n",
       "      <th>yearOfRegistration</th>\n",
       "      <th>gearbox</th>\n",
       "      <th>powerPS</th>\n",
       "      <th>model</th>\n",
       "      <th>odometer</th>\n",
       "      <th>monthOfRegistration</th>\n",
       "      <th>fuelType</th>\n",
       "      <th>brand</th>\n",
       "      <th>notRepairedDamage</th>\n",
       "      <th>dateCreated</th>\n",
       "      <th>nrOfPictures</th>\n",
       "      <th>postalCode</th>\n",
       "      <th>lastSeen</th>\n",
       "    </tr>\n",
       "  </thead>\n",
       "  <tbody>\n",
       "    <tr>\n",
       "      <th>0</th>\n",
       "      <td>2016-03-26 17:47:46</td>\n",
       "      <td>Peugeot_807_160_NAVTECH_ON_BOARD</td>\n",
       "      <td>privat</td>\n",
       "      <td>Angebot</td>\n",
       "      <td>$5,000</td>\n",
       "      <td>control</td>\n",
       "      <td>bus</td>\n",
       "      <td>2004</td>\n",
       "      <td>manuell</td>\n",
       "      <td>158</td>\n",
       "      <td>andere</td>\n",
       "      <td>150,000km</td>\n",
       "      <td>3</td>\n",
       "      <td>lpg</td>\n",
       "      <td>peugeot</td>\n",
       "      <td>nein</td>\n",
       "      <td>2016-03-26 00:00:00</td>\n",
       "      <td>0</td>\n",
       "      <td>79588</td>\n",
       "      <td>2016-04-06 06:45:54</td>\n",
       "    </tr>\n",
       "    <tr>\n",
       "      <th>1</th>\n",
       "      <td>2016-04-04 13:38:56</td>\n",
       "      <td>BMW_740i_4_4_Liter_HAMANN_UMBAU_Mega_Optik</td>\n",
       "      <td>privat</td>\n",
       "      <td>Angebot</td>\n",
       "      <td>$8,500</td>\n",
       "      <td>control</td>\n",
       "      <td>limousine</td>\n",
       "      <td>1997</td>\n",
       "      <td>automatik</td>\n",
       "      <td>286</td>\n",
       "      <td>7er</td>\n",
       "      <td>150,000km</td>\n",
       "      <td>6</td>\n",
       "      <td>benzin</td>\n",
       "      <td>bmw</td>\n",
       "      <td>nein</td>\n",
       "      <td>2016-04-04 00:00:00</td>\n",
       "      <td>0</td>\n",
       "      <td>71034</td>\n",
       "      <td>2016-04-06 14:45:08</td>\n",
       "    </tr>\n",
       "    <tr>\n",
       "      <th>2</th>\n",
       "      <td>2016-03-26 18:57:24</td>\n",
       "      <td>Volkswagen_Golf_1.6_United</td>\n",
       "      <td>privat</td>\n",
       "      <td>Angebot</td>\n",
       "      <td>$8,990</td>\n",
       "      <td>test</td>\n",
       "      <td>limousine</td>\n",
       "      <td>2009</td>\n",
       "      <td>manuell</td>\n",
       "      <td>102</td>\n",
       "      <td>golf</td>\n",
       "      <td>70,000km</td>\n",
       "      <td>7</td>\n",
       "      <td>benzin</td>\n",
       "      <td>volkswagen</td>\n",
       "      <td>nein</td>\n",
       "      <td>2016-03-26 00:00:00</td>\n",
       "      <td>0</td>\n",
       "      <td>35394</td>\n",
       "      <td>2016-04-06 20:15:37</td>\n",
       "    </tr>\n",
       "    <tr>\n",
       "      <th>3</th>\n",
       "      <td>2016-03-12 16:58:10</td>\n",
       "      <td>Smart_smart_fortwo_coupe_softouch/F1/Klima/Pan...</td>\n",
       "      <td>privat</td>\n",
       "      <td>Angebot</td>\n",
       "      <td>$4,350</td>\n",
       "      <td>control</td>\n",
       "      <td>kleinwagen</td>\n",
       "      <td>2007</td>\n",
       "      <td>automatik</td>\n",
       "      <td>71</td>\n",
       "      <td>fortwo</td>\n",
       "      <td>70,000km</td>\n",
       "      <td>6</td>\n",
       "      <td>benzin</td>\n",
       "      <td>smart</td>\n",
       "      <td>nein</td>\n",
       "      <td>2016-03-12 00:00:00</td>\n",
       "      <td>0</td>\n",
       "      <td>33729</td>\n",
       "      <td>2016-03-15 03:16:28</td>\n",
       "    </tr>\n",
       "    <tr>\n",
       "      <th>4</th>\n",
       "      <td>2016-04-01 14:38:50</td>\n",
       "      <td>Ford_Focus_1_6_Benzin_TÜV_neu_ist_sehr_gepfleg...</td>\n",
       "      <td>privat</td>\n",
       "      <td>Angebot</td>\n",
       "      <td>$1,350</td>\n",
       "      <td>test</td>\n",
       "      <td>kombi</td>\n",
       "      <td>2003</td>\n",
       "      <td>manuell</td>\n",
       "      <td>0</td>\n",
       "      <td>focus</td>\n",
       "      <td>150,000km</td>\n",
       "      <td>7</td>\n",
       "      <td>benzin</td>\n",
       "      <td>ford</td>\n",
       "      <td>nein</td>\n",
       "      <td>2016-04-01 00:00:00</td>\n",
       "      <td>0</td>\n",
       "      <td>39218</td>\n",
       "      <td>2016-04-01 14:38:50</td>\n",
       "    </tr>\n",
       "    <tr>\n",
       "      <th>...</th>\n",
       "      <td>...</td>\n",
       "      <td>...</td>\n",
       "      <td>...</td>\n",
       "      <td>...</td>\n",
       "      <td>...</td>\n",
       "      <td>...</td>\n",
       "      <td>...</td>\n",
       "      <td>...</td>\n",
       "      <td>...</td>\n",
       "      <td>...</td>\n",
       "      <td>...</td>\n",
       "      <td>...</td>\n",
       "      <td>...</td>\n",
       "      <td>...</td>\n",
       "      <td>...</td>\n",
       "      <td>...</td>\n",
       "      <td>...</td>\n",
       "      <td>...</td>\n",
       "      <td>...</td>\n",
       "      <td>...</td>\n",
       "    </tr>\n",
       "    <tr>\n",
       "      <th>49995</th>\n",
       "      <td>2016-03-27 14:38:19</td>\n",
       "      <td>Audi_Q5_3.0_TDI_qu._S_tr.__Navi__Panorama__Xenon</td>\n",
       "      <td>privat</td>\n",
       "      <td>Angebot</td>\n",
       "      <td>$24,900</td>\n",
       "      <td>control</td>\n",
       "      <td>limousine</td>\n",
       "      <td>2011</td>\n",
       "      <td>automatik</td>\n",
       "      <td>239</td>\n",
       "      <td>q5</td>\n",
       "      <td>100,000km</td>\n",
       "      <td>1</td>\n",
       "      <td>diesel</td>\n",
       "      <td>audi</td>\n",
       "      <td>nein</td>\n",
       "      <td>2016-03-27 00:00:00</td>\n",
       "      <td>0</td>\n",
       "      <td>82131</td>\n",
       "      <td>2016-04-01 13:47:40</td>\n",
       "    </tr>\n",
       "    <tr>\n",
       "      <th>49996</th>\n",
       "      <td>2016-03-28 10:50:25</td>\n",
       "      <td>Opel_Astra_F_Cabrio_Bertone_Edition___TÜV_neu+...</td>\n",
       "      <td>privat</td>\n",
       "      <td>Angebot</td>\n",
       "      <td>$1,980</td>\n",
       "      <td>control</td>\n",
       "      <td>cabrio</td>\n",
       "      <td>1996</td>\n",
       "      <td>manuell</td>\n",
       "      <td>75</td>\n",
       "      <td>astra</td>\n",
       "      <td>150,000km</td>\n",
       "      <td>5</td>\n",
       "      <td>benzin</td>\n",
       "      <td>opel</td>\n",
       "      <td>nein</td>\n",
       "      <td>2016-03-28 00:00:00</td>\n",
       "      <td>0</td>\n",
       "      <td>44807</td>\n",
       "      <td>2016-04-02 14:18:02</td>\n",
       "    </tr>\n",
       "    <tr>\n",
       "      <th>49997</th>\n",
       "      <td>2016-04-02 14:44:48</td>\n",
       "      <td>Fiat_500_C_1.2_Dualogic_Lounge</td>\n",
       "      <td>privat</td>\n",
       "      <td>Angebot</td>\n",
       "      <td>$13,200</td>\n",
       "      <td>test</td>\n",
       "      <td>cabrio</td>\n",
       "      <td>2014</td>\n",
       "      <td>automatik</td>\n",
       "      <td>69</td>\n",
       "      <td>500</td>\n",
       "      <td>5,000km</td>\n",
       "      <td>11</td>\n",
       "      <td>benzin</td>\n",
       "      <td>fiat</td>\n",
       "      <td>nein</td>\n",
       "      <td>2016-04-02 00:00:00</td>\n",
       "      <td>0</td>\n",
       "      <td>73430</td>\n",
       "      <td>2016-04-04 11:47:27</td>\n",
       "    </tr>\n",
       "    <tr>\n",
       "      <th>49998</th>\n",
       "      <td>2016-03-08 19:25:42</td>\n",
       "      <td>Audi_A3_2.0_TDI_Sportback_Ambition</td>\n",
       "      <td>privat</td>\n",
       "      <td>Angebot</td>\n",
       "      <td>$22,900</td>\n",
       "      <td>control</td>\n",
       "      <td>kombi</td>\n",
       "      <td>2013</td>\n",
       "      <td>manuell</td>\n",
       "      <td>150</td>\n",
       "      <td>a3</td>\n",
       "      <td>40,000km</td>\n",
       "      <td>11</td>\n",
       "      <td>diesel</td>\n",
       "      <td>audi</td>\n",
       "      <td>nein</td>\n",
       "      <td>2016-03-08 00:00:00</td>\n",
       "      <td>0</td>\n",
       "      <td>35683</td>\n",
       "      <td>2016-04-05 16:45:07</td>\n",
       "    </tr>\n",
       "    <tr>\n",
       "      <th>49999</th>\n",
       "      <td>2016-03-14 00:42:12</td>\n",
       "      <td>Opel_Vectra_1.6_16V</td>\n",
       "      <td>privat</td>\n",
       "      <td>Angebot</td>\n",
       "      <td>$1,250</td>\n",
       "      <td>control</td>\n",
       "      <td>limousine</td>\n",
       "      <td>1996</td>\n",
       "      <td>manuell</td>\n",
       "      <td>101</td>\n",
       "      <td>vectra</td>\n",
       "      <td>150,000km</td>\n",
       "      <td>1</td>\n",
       "      <td>benzin</td>\n",
       "      <td>opel</td>\n",
       "      <td>nein</td>\n",
       "      <td>2016-03-13 00:00:00</td>\n",
       "      <td>0</td>\n",
       "      <td>45897</td>\n",
       "      <td>2016-04-06 21:18:48</td>\n",
       "    </tr>\n",
       "  </tbody>\n",
       "</table>\n",
       "<p>50000 rows × 20 columns</p>\n",
       "</div>"
      ],
      "text/plain": [
       "               dateCrawled                                               name  \\\n",
       "0      2016-03-26 17:47:46                   Peugeot_807_160_NAVTECH_ON_BOARD   \n",
       "1      2016-04-04 13:38:56         BMW_740i_4_4_Liter_HAMANN_UMBAU_Mega_Optik   \n",
       "2      2016-03-26 18:57:24                         Volkswagen_Golf_1.6_United   \n",
       "3      2016-03-12 16:58:10  Smart_smart_fortwo_coupe_softouch/F1/Klima/Pan...   \n",
       "4      2016-04-01 14:38:50  Ford_Focus_1_6_Benzin_TÜV_neu_ist_sehr_gepfleg...   \n",
       "...                    ...                                                ...   \n",
       "49995  2016-03-27 14:38:19   Audi_Q5_3.0_TDI_qu._S_tr.__Navi__Panorama__Xenon   \n",
       "49996  2016-03-28 10:50:25  Opel_Astra_F_Cabrio_Bertone_Edition___TÜV_neu+...   \n",
       "49997  2016-04-02 14:44:48                     Fiat_500_C_1.2_Dualogic_Lounge   \n",
       "49998  2016-03-08 19:25:42                 Audi_A3_2.0_TDI_Sportback_Ambition   \n",
       "49999  2016-03-14 00:42:12                                Opel_Vectra_1.6_16V   \n",
       "\n",
       "       seller offerType    price   abtest vehicleType  yearOfRegistration  \\\n",
       "0      privat   Angebot   $5,000  control         bus                2004   \n",
       "1      privat   Angebot   $8,500  control   limousine                1997   \n",
       "2      privat   Angebot   $8,990     test   limousine                2009   \n",
       "3      privat   Angebot   $4,350  control  kleinwagen                2007   \n",
       "4      privat   Angebot   $1,350     test       kombi                2003   \n",
       "...       ...       ...      ...      ...         ...                 ...   \n",
       "49995  privat   Angebot  $24,900  control   limousine                2011   \n",
       "49996  privat   Angebot   $1,980  control      cabrio                1996   \n",
       "49997  privat   Angebot  $13,200     test      cabrio                2014   \n",
       "49998  privat   Angebot  $22,900  control       kombi                2013   \n",
       "49999  privat   Angebot   $1,250  control   limousine                1996   \n",
       "\n",
       "         gearbox  powerPS   model   odometer  monthOfRegistration fuelType  \\\n",
       "0        manuell      158  andere  150,000km                    3      lpg   \n",
       "1      automatik      286     7er  150,000km                    6   benzin   \n",
       "2        manuell      102    golf   70,000km                    7   benzin   \n",
       "3      automatik       71  fortwo   70,000km                    6   benzin   \n",
       "4        manuell        0   focus  150,000km                    7   benzin   \n",
       "...          ...      ...     ...        ...                  ...      ...   \n",
       "49995  automatik      239      q5  100,000km                    1   diesel   \n",
       "49996    manuell       75   astra  150,000km                    5   benzin   \n",
       "49997  automatik       69     500    5,000km                   11   benzin   \n",
       "49998    manuell      150      a3   40,000km                   11   diesel   \n",
       "49999    manuell      101  vectra  150,000km                    1   benzin   \n",
       "\n",
       "            brand notRepairedDamage          dateCreated  nrOfPictures  \\\n",
       "0         peugeot              nein  2016-03-26 00:00:00             0   \n",
       "1             bmw              nein  2016-04-04 00:00:00             0   \n",
       "2      volkswagen              nein  2016-03-26 00:00:00             0   \n",
       "3           smart              nein  2016-03-12 00:00:00             0   \n",
       "4            ford              nein  2016-04-01 00:00:00             0   \n",
       "...           ...               ...                  ...           ...   \n",
       "49995        audi              nein  2016-03-27 00:00:00             0   \n",
       "49996        opel              nein  2016-03-28 00:00:00             0   \n",
       "49997        fiat              nein  2016-04-02 00:00:00             0   \n",
       "49998        audi              nein  2016-03-08 00:00:00             0   \n",
       "49999        opel              nein  2016-03-13 00:00:00             0   \n",
       "\n",
       "       postalCode             lastSeen  \n",
       "0           79588  2016-04-06 06:45:54  \n",
       "1           71034  2016-04-06 14:45:08  \n",
       "2           35394  2016-04-06 20:15:37  \n",
       "3           33729  2016-03-15 03:16:28  \n",
       "4           39218  2016-04-01 14:38:50  \n",
       "...           ...                  ...  \n",
       "49995       82131  2016-04-01 13:47:40  \n",
       "49996       44807  2016-04-02 14:18:02  \n",
       "49997       73430  2016-04-04 11:47:27  \n",
       "49998       35683  2016-04-05 16:45:07  \n",
       "49999       45897  2016-04-06 21:18:48  \n",
       "\n",
       "[50000 rows x 20 columns]"
      ]
     },
     "execution_count": 4,
     "metadata": {},
     "output_type": "execute_result"
    }
   ],
   "source": [
    "# usamos o método 'df' para ver o início e o fim dos dados no momento\n",
    "autos"
   ]
  },
  {
   "cell_type": "code",
   "execution_count": 5,
   "metadata": {},
   "outputs": [
    {
     "data": {
      "text/html": [
       "<div>\n",
       "<style scoped>\n",
       "    .dataframe tbody tr th:only-of-type {\n",
       "        vertical-align: middle;\n",
       "    }\n",
       "\n",
       "    .dataframe tbody tr th {\n",
       "        vertical-align: top;\n",
       "    }\n",
       "\n",
       "    .dataframe thead th {\n",
       "        text-align: right;\n",
       "    }\n",
       "</style>\n",
       "<table border=\"1\" class=\"dataframe\">\n",
       "  <thead>\n",
       "    <tr style=\"text-align: right;\">\n",
       "      <th></th>\n",
       "      <th>dateCrawled</th>\n",
       "      <th>name</th>\n",
       "      <th>seller</th>\n",
       "      <th>offerType</th>\n",
       "      <th>price</th>\n",
       "      <th>abtest</th>\n",
       "      <th>vehicleType</th>\n",
       "      <th>yearOfRegistration</th>\n",
       "      <th>gearbox</th>\n",
       "      <th>powerPS</th>\n",
       "      <th>model</th>\n",
       "      <th>odometer</th>\n",
       "      <th>monthOfRegistration</th>\n",
       "      <th>fuelType</th>\n",
       "      <th>brand</th>\n",
       "      <th>notRepairedDamage</th>\n",
       "      <th>dateCreated</th>\n",
       "      <th>nrOfPictures</th>\n",
       "      <th>postalCode</th>\n",
       "      <th>lastSeen</th>\n",
       "    </tr>\n",
       "  </thead>\n",
       "  <tbody>\n",
       "    <tr>\n",
       "      <th>16168</th>\n",
       "      <td>2016-03-13 08:47:44</td>\n",
       "      <td>Opel_Zafira_1.8_16V</td>\n",
       "      <td>privat</td>\n",
       "      <td>Angebot</td>\n",
       "      <td>$2,400</td>\n",
       "      <td>control</td>\n",
       "      <td>bus</td>\n",
       "      <td>2003</td>\n",
       "      <td>manuell</td>\n",
       "      <td>125</td>\n",
       "      <td>zafira</td>\n",
       "      <td>150,000km</td>\n",
       "      <td>3</td>\n",
       "      <td>benzin</td>\n",
       "      <td>opel</td>\n",
       "      <td>nein</td>\n",
       "      <td>2016-03-13 00:00:00</td>\n",
       "      <td>0</td>\n",
       "      <td>17489</td>\n",
       "      <td>2016-03-24 05:16:55</td>\n",
       "    </tr>\n",
       "    <tr>\n",
       "      <th>16908</th>\n",
       "      <td>2016-03-21 21:50:35</td>\n",
       "      <td>Ford_Probe_24V</td>\n",
       "      <td>privat</td>\n",
       "      <td>Angebot</td>\n",
       "      <td>$1,600</td>\n",
       "      <td>control</td>\n",
       "      <td>coupe</td>\n",
       "      <td>1995</td>\n",
       "      <td>manuell</td>\n",
       "      <td>162</td>\n",
       "      <td>andere</td>\n",
       "      <td>150,000km</td>\n",
       "      <td>4</td>\n",
       "      <td>benzin</td>\n",
       "      <td>ford</td>\n",
       "      <td>nein</td>\n",
       "      <td>2016-03-21 00:00:00</td>\n",
       "      <td>0</td>\n",
       "      <td>78224</td>\n",
       "      <td>2016-04-07 02:46:33</td>\n",
       "    </tr>\n",
       "    <tr>\n",
       "      <th>18566</th>\n",
       "      <td>2016-03-28 19:55:41</td>\n",
       "      <td>BMW_525d_Aut.</td>\n",
       "      <td>privat</td>\n",
       "      <td>Angebot</td>\n",
       "      <td>$10,000</td>\n",
       "      <td>control</td>\n",
       "      <td>limousine</td>\n",
       "      <td>2006</td>\n",
       "      <td>automatik</td>\n",
       "      <td>177</td>\n",
       "      <td>5er</td>\n",
       "      <td>150,000km</td>\n",
       "      <td>5</td>\n",
       "      <td>diesel</td>\n",
       "      <td>bmw</td>\n",
       "      <td>nein</td>\n",
       "      <td>2016-03-28 00:00:00</td>\n",
       "      <td>0</td>\n",
       "      <td>93426</td>\n",
       "      <td>2016-04-07 02:17:54</td>\n",
       "    </tr>\n",
       "    <tr>\n",
       "      <th>22390</th>\n",
       "      <td>2016-03-12 11:45:55</td>\n",
       "      <td>Mazda_mpv</td>\n",
       "      <td>privat</td>\n",
       "      <td>Angebot</td>\n",
       "      <td>$2,700</td>\n",
       "      <td>test</td>\n",
       "      <td>NaN</td>\n",
       "      <td>2017</td>\n",
       "      <td>manuell</td>\n",
       "      <td>136</td>\n",
       "      <td>andere</td>\n",
       "      <td>150,000km</td>\n",
       "      <td>7</td>\n",
       "      <td>diesel</td>\n",
       "      <td>mazda</td>\n",
       "      <td>nein</td>\n",
       "      <td>2016-03-12 00:00:00</td>\n",
       "      <td>0</td>\n",
       "      <td>17491</td>\n",
       "      <td>2016-03-29 18:46:55</td>\n",
       "    </tr>\n",
       "    <tr>\n",
       "      <th>26278</th>\n",
       "      <td>2016-03-27 13:37:58</td>\n",
       "      <td>autoverkaufen</td>\n",
       "      <td>privat</td>\n",
       "      <td>Angebot</td>\n",
       "      <td>$400</td>\n",
       "      <td>test</td>\n",
       "      <td>limousine</td>\n",
       "      <td>2003</td>\n",
       "      <td>manuell</td>\n",
       "      <td>82</td>\n",
       "      <td>NaN</td>\n",
       "      <td>150,000km</td>\n",
       "      <td>3</td>\n",
       "      <td>diesel</td>\n",
       "      <td>hyundai</td>\n",
       "      <td>nein</td>\n",
       "      <td>2016-03-27 00:00:00</td>\n",
       "      <td>0</td>\n",
       "      <td>42857</td>\n",
       "      <td>2016-04-07 09:16:09</td>\n",
       "    </tr>\n",
       "    <tr>\n",
       "      <th>28279</th>\n",
       "      <td>2016-03-26 14:59:33</td>\n",
       "      <td>Skoda_Octavia_1.6</td>\n",
       "      <td>privat</td>\n",
       "      <td>Angebot</td>\n",
       "      <td>$5,200</td>\n",
       "      <td>control</td>\n",
       "      <td>limousine</td>\n",
       "      <td>2009</td>\n",
       "      <td>manuell</td>\n",
       "      <td>102</td>\n",
       "      <td>octavia</td>\n",
       "      <td>80,000km</td>\n",
       "      <td>9</td>\n",
       "      <td>benzin</td>\n",
       "      <td>skoda</td>\n",
       "      <td>nein</td>\n",
       "      <td>2016-03-26 00:00:00</td>\n",
       "      <td>0</td>\n",
       "      <td>17309</td>\n",
       "      <td>2016-04-06 02:46:33</td>\n",
       "    </tr>\n",
       "    <tr>\n",
       "      <th>30738</th>\n",
       "      <td>2016-03-29 23:57:32</td>\n",
       "      <td>Vw_t3_1.6td_Pritsche</td>\n",
       "      <td>privat</td>\n",
       "      <td>Angebot</td>\n",
       "      <td>$1,200</td>\n",
       "      <td>control</td>\n",
       "      <td>bus</td>\n",
       "      <td>1988</td>\n",
       "      <td>manuell</td>\n",
       "      <td>69</td>\n",
       "      <td>transporter</td>\n",
       "      <td>5,000km</td>\n",
       "      <td>0</td>\n",
       "      <td>NaN</td>\n",
       "      <td>volkswagen</td>\n",
       "      <td>ja</td>\n",
       "      <td>2016-03-29 00:00:00</td>\n",
       "      <td>0</td>\n",
       "      <td>66798</td>\n",
       "      <td>2016-04-06 21:47:38</td>\n",
       "    </tr>\n",
       "    <tr>\n",
       "      <th>31442</th>\n",
       "      <td>2016-04-03 16:58:28</td>\n",
       "      <td>Seat_Toledo_GT_2l__mit_Tuev_und_Klima</td>\n",
       "      <td>privat</td>\n",
       "      <td>Angebot</td>\n",
       "      <td>$499</td>\n",
       "      <td>control</td>\n",
       "      <td>limousine</td>\n",
       "      <td>1992</td>\n",
       "      <td>manuell</td>\n",
       "      <td>115</td>\n",
       "      <td>toledo</td>\n",
       "      <td>150,000km</td>\n",
       "      <td>4</td>\n",
       "      <td>benzin</td>\n",
       "      <td>seat</td>\n",
       "      <td>ja</td>\n",
       "      <td>2016-04-03 00:00:00</td>\n",
       "      <td>0</td>\n",
       "      <td>58239</td>\n",
       "      <td>2016-04-05 16:46:42</td>\n",
       "    </tr>\n",
       "    <tr>\n",
       "      <th>32030</th>\n",
       "      <td>2016-04-04 09:55:56</td>\n",
       "      <td>Ford_Transit_330_K_TDCi_EUROLINE</td>\n",
       "      <td>privat</td>\n",
       "      <td>Angebot</td>\n",
       "      <td>$18,900</td>\n",
       "      <td>control</td>\n",
       "      <td>kombi</td>\n",
       "      <td>2013</td>\n",
       "      <td>manuell</td>\n",
       "      <td>140</td>\n",
       "      <td>transit</td>\n",
       "      <td>40,000km</td>\n",
       "      <td>3</td>\n",
       "      <td>diesel</td>\n",
       "      <td>ford</td>\n",
       "      <td>nein</td>\n",
       "      <td>2016-04-04 00:00:00</td>\n",
       "      <td>0</td>\n",
       "      <td>96231</td>\n",
       "      <td>2016-04-04 10:44:26</td>\n",
       "    </tr>\n",
       "    <tr>\n",
       "      <th>33998</th>\n",
       "      <td>2016-03-18 19:45:40</td>\n",
       "      <td>Audi_A3_3.2_quattro_Sportback__DSG__S_tronic</td>\n",
       "      <td>privat</td>\n",
       "      <td>Angebot</td>\n",
       "      <td>$10,499</td>\n",
       "      <td>control</td>\n",
       "      <td>kombi</td>\n",
       "      <td>2006</td>\n",
       "      <td>automatik</td>\n",
       "      <td>250</td>\n",
       "      <td>a3</td>\n",
       "      <td>150,000km</td>\n",
       "      <td>6</td>\n",
       "      <td>benzin</td>\n",
       "      <td>audi</td>\n",
       "      <td>nein</td>\n",
       "      <td>2016-03-18 00:00:00</td>\n",
       "      <td>0</td>\n",
       "      <td>96126</td>\n",
       "      <td>2016-04-05 22:47:00</td>\n",
       "    </tr>\n",
       "  </tbody>\n",
       "</table>\n",
       "</div>"
      ],
      "text/plain": [
       "               dateCrawled                                          name  \\\n",
       "16168  2016-03-13 08:47:44                           Opel_Zafira_1.8_16V   \n",
       "16908  2016-03-21 21:50:35                                Ford_Probe_24V   \n",
       "18566  2016-03-28 19:55:41                                 BMW_525d_Aut.   \n",
       "22390  2016-03-12 11:45:55                                     Mazda_mpv   \n",
       "26278  2016-03-27 13:37:58                                 autoverkaufen   \n",
       "28279  2016-03-26 14:59:33                             Skoda_Octavia_1.6   \n",
       "30738  2016-03-29 23:57:32                          Vw_t3_1.6td_Pritsche   \n",
       "31442  2016-04-03 16:58:28         Seat_Toledo_GT_2l__mit_Tuev_und_Klima   \n",
       "32030  2016-04-04 09:55:56              Ford_Transit_330_K_TDCi_EUROLINE   \n",
       "33998  2016-03-18 19:45:40  Audi_A3_3.2_quattro_Sportback__DSG__S_tronic   \n",
       "\n",
       "       seller offerType    price   abtest vehicleType  yearOfRegistration  \\\n",
       "16168  privat   Angebot   $2,400  control         bus                2003   \n",
       "16908  privat   Angebot   $1,600  control       coupe                1995   \n",
       "18566  privat   Angebot  $10,000  control   limousine                2006   \n",
       "22390  privat   Angebot   $2,700     test         NaN                2017   \n",
       "26278  privat   Angebot     $400     test   limousine                2003   \n",
       "28279  privat   Angebot   $5,200  control   limousine                2009   \n",
       "30738  privat   Angebot   $1,200  control         bus                1988   \n",
       "31442  privat   Angebot     $499  control   limousine                1992   \n",
       "32030  privat   Angebot  $18,900  control       kombi                2013   \n",
       "33998  privat   Angebot  $10,499  control       kombi                2006   \n",
       "\n",
       "         gearbox  powerPS        model   odometer  monthOfRegistration  \\\n",
       "16168    manuell      125       zafira  150,000km                    3   \n",
       "16908    manuell      162       andere  150,000km                    4   \n",
       "18566  automatik      177          5er  150,000km                    5   \n",
       "22390    manuell      136       andere  150,000km                    7   \n",
       "26278    manuell       82          NaN  150,000km                    3   \n",
       "28279    manuell      102      octavia   80,000km                    9   \n",
       "30738    manuell       69  transporter    5,000km                    0   \n",
       "31442    manuell      115       toledo  150,000km                    4   \n",
       "32030    manuell      140      transit   40,000km                    3   \n",
       "33998  automatik      250           a3  150,000km                    6   \n",
       "\n",
       "      fuelType       brand notRepairedDamage          dateCreated  \\\n",
       "16168   benzin        opel              nein  2016-03-13 00:00:00   \n",
       "16908   benzin        ford              nein  2016-03-21 00:00:00   \n",
       "18566   diesel         bmw              nein  2016-03-28 00:00:00   \n",
       "22390   diesel       mazda              nein  2016-03-12 00:00:00   \n",
       "26278   diesel     hyundai              nein  2016-03-27 00:00:00   \n",
       "28279   benzin       skoda              nein  2016-03-26 00:00:00   \n",
       "30738      NaN  volkswagen                ja  2016-03-29 00:00:00   \n",
       "31442   benzin        seat                ja  2016-04-03 00:00:00   \n",
       "32030   diesel        ford              nein  2016-04-04 00:00:00   \n",
       "33998   benzin        audi              nein  2016-03-18 00:00:00   \n",
       "\n",
       "       nrOfPictures  postalCode             lastSeen  \n",
       "16168             0       17489  2016-03-24 05:16:55  \n",
       "16908             0       78224  2016-04-07 02:46:33  \n",
       "18566             0       93426  2016-04-07 02:17:54  \n",
       "22390             0       17491  2016-03-29 18:46:55  \n",
       "26278             0       42857  2016-04-07 09:16:09  \n",
       "28279             0       17309  2016-04-06 02:46:33  \n",
       "30738             0       66798  2016-04-06 21:47:38  \n",
       "31442             0       58239  2016-04-05 16:46:42  \n",
       "32030             0       96231  2016-04-04 10:44:26  \n",
       "33998             0       96126  2016-04-05 22:47:00  "
      ]
     },
     "execution_count": 5,
     "metadata": {},
     "output_type": "execute_result"
    }
   ],
   "source": [
    "# examinar 10 linhas aleatórias\n",
    "autos.sample(10).sort_index()"
   ]
  },
  {
   "cell_type": "markdown",
   "metadata": {},
   "source": [
    "Podemos então observar:\n",
    "\n",
    "5000 linhas em 20 colunas.\n",
    "\n",
    "Os dados em 5 colunas são do tipo int64.\n",
    "\n",
    "Os dados em 15 colunas são do tipo objeto (string).\n",
    "\n",
    "As colunas `vehicleType`, `gearbox`, `model`, `fuelType`, `notRepairDamage` têm dados nulos.\n",
    "\n",
    "As informações nas colunas `dataCrawled`, `dataCreated` e `lastSeen` têm o formato \"AAAA-MM-DD HH:MM:SS\" e são armazenadas como string.\n",
    "\n",
    "As informações na coluna `name` têm sublinhados, barras invertidas e outros símbolos e, em geral, não são muito compreensíveis.\n",
    "\n",
    "O preço é em dólares americanos e armazenado como string."
   ]
  },
  {
   "cell_type": "markdown",
   "metadata": {},
   "source": [
    "Os nomes das colunas não são fáceis de entender. Veremos que não basta apenas renomeá-los, mas convertê-los também."
   ]
  },
  {
   "cell_type": "code",
   "execution_count": 6,
   "metadata": {},
   "outputs": [
    {
     "data": {
      "text/plain": [
       "Index(['dateCrawled', 'name', 'seller', 'offerType', 'price', 'abtest',\n",
       "       'vehicleType', 'yearOfRegistration', 'gearbox', 'powerPS', 'model',\n",
       "       'odometer', 'monthOfRegistration', 'fuelType', 'brand',\n",
       "       'notRepairedDamage', 'dateCreated', 'nrOfPictures', 'postalCode',\n",
       "       'lastSeen'],\n",
       "      dtype='object')"
      ]
     },
     "execution_count": 6,
     "metadata": {},
     "output_type": "execute_result"
    }
   ],
   "source": [
    "#nomes originais\n",
    "autos.columns"
   ]
  },
  {
   "cell_type": "code",
   "execution_count": 7,
   "metadata": {},
   "outputs": [
    {
     "name": "stdout",
     "output_type": "stream",
     "text": [
      "Requirement already satisfied: stringcase in /dataquest/system/env/python3/lib/python3.8/site-packages (1.2.0)\n",
      "\u001b[33mWARNING: You are using pip version 20.3; however, version 22.1.2 is available.\n",
      "You should consider upgrading via the '/dataquest/system/env/python3/bin/python3 -m pip install --upgrade pip' command.\u001b[0m\n",
      "Note: you may need to restart the kernel to use updated packages.\n"
     ]
    }
   ],
   "source": [
    "#instalando o stringcase\n",
    "%pip install stringcase"
   ]
  },
  {
   "cell_type": "code",
   "execution_count": 8,
   "metadata": {},
   "outputs": [],
   "source": [
    "#importando o stringcase e o snakecase da biblioteca\n",
    "import stringcase as stringcase\n",
    "from stringcase import snakecase"
   ]
  },
  {
   "cell_type": "code",
   "execution_count": 9,
   "metadata": {},
   "outputs": [],
   "source": [
    "#transformando colunas camelcase em colunas snakecase\n",
    "snakecase_col = []    # cria uma lista vazia de nomes de colunas\n",
    "    \n",
    "for col in autos.columns: # usar um for\n",
    "    col = snakecase(col)\n",
    "    snakecase_col.append(col)\n",
    "    \n",
    "autos.columns = snakecase_col \n",
    "\n",
    "#renomeando algumas colunas com novos valores\n",
    "renomear_colunas = [\n",
    "    ['abtest', 'ab_test'],\n",
    "    ['year_of_registration','registration_year'],\n",
    "    ['month_of_registration','registration_month'],\n",
    "    ['not_repaired_damage','unrepaired_damage'],\n",
    "    ['date_created','ad_created'],\n",
    "    ['power_p_s','power_ps']\n",
    "]\n",
    "\n",
    "for col_ant, col_nov in renomear_colunas:\n",
    "    autos.rename({col_ant: col_nov},axis=1,inplace=True)"
   ]
  },
  {
   "cell_type": "code",
   "execution_count": 10,
   "metadata": {},
   "outputs": [
    {
     "data": {
      "text/plain": [
       "Index(['date_crawled', 'name', 'seller', 'offer_type', 'price', 'ab_test',\n",
       "       'vehicle_type', 'registration_year', 'gearbox', 'power_ps', 'model',\n",
       "       'odometer', 'registration_month', 'fuel_type', 'brand',\n",
       "       'unrepaired_damage', 'ad_created', 'nr_of_pictures', 'postal_code',\n",
       "       'last_seen'],\n",
       "      dtype='object')"
      ]
     },
     "execution_count": 10,
     "metadata": {},
     "output_type": "execute_result"
    }
   ],
   "source": [
    "# nomes das novas colunas\n",
    "\n",
    "autos.columns"
   ]
  },
  {
   "cell_type": "code",
   "execution_count": 11,
   "metadata": {},
   "outputs": [
    {
     "data": {
      "text/html": [
       "<div>\n",
       "<style scoped>\n",
       "    .dataframe tbody tr th:only-of-type {\n",
       "        vertical-align: middle;\n",
       "    }\n",
       "\n",
       "    .dataframe tbody tr th {\n",
       "        vertical-align: top;\n",
       "    }\n",
       "\n",
       "    .dataframe thead th {\n",
       "        text-align: right;\n",
       "    }\n",
       "</style>\n",
       "<table border=\"1\" class=\"dataframe\">\n",
       "  <thead>\n",
       "    <tr style=\"text-align: right;\">\n",
       "      <th></th>\n",
       "      <th>date_crawled</th>\n",
       "      <th>name</th>\n",
       "      <th>seller</th>\n",
       "      <th>offer_type</th>\n",
       "      <th>price</th>\n",
       "      <th>ab_test</th>\n",
       "      <th>vehicle_type</th>\n",
       "      <th>registration_year</th>\n",
       "      <th>gearbox</th>\n",
       "      <th>power_ps</th>\n",
       "      <th>model</th>\n",
       "      <th>odometer</th>\n",
       "      <th>registration_month</th>\n",
       "      <th>fuel_type</th>\n",
       "      <th>brand</th>\n",
       "      <th>unrepaired_damage</th>\n",
       "      <th>ad_created</th>\n",
       "      <th>nr_of_pictures</th>\n",
       "      <th>postal_code</th>\n",
       "      <th>last_seen</th>\n",
       "    </tr>\n",
       "  </thead>\n",
       "  <tbody>\n",
       "    <tr>\n",
       "      <th>count</th>\n",
       "      <td>50000</td>\n",
       "      <td>50000</td>\n",
       "      <td>50000</td>\n",
       "      <td>50000</td>\n",
       "      <td>50000</td>\n",
       "      <td>50000</td>\n",
       "      <td>44905</td>\n",
       "      <td>50000.000000</td>\n",
       "      <td>47320</td>\n",
       "      <td>50000.000000</td>\n",
       "      <td>47242</td>\n",
       "      <td>50000</td>\n",
       "      <td>50000.000000</td>\n",
       "      <td>45518</td>\n",
       "      <td>50000</td>\n",
       "      <td>40171</td>\n",
       "      <td>50000</td>\n",
       "      <td>50000.0</td>\n",
       "      <td>50000.000000</td>\n",
       "      <td>50000</td>\n",
       "    </tr>\n",
       "    <tr>\n",
       "      <th>unique</th>\n",
       "      <td>48213</td>\n",
       "      <td>38754</td>\n",
       "      <td>2</td>\n",
       "      <td>2</td>\n",
       "      <td>2357</td>\n",
       "      <td>2</td>\n",
       "      <td>8</td>\n",
       "      <td>NaN</td>\n",
       "      <td>2</td>\n",
       "      <td>NaN</td>\n",
       "      <td>245</td>\n",
       "      <td>13</td>\n",
       "      <td>NaN</td>\n",
       "      <td>7</td>\n",
       "      <td>40</td>\n",
       "      <td>2</td>\n",
       "      <td>76</td>\n",
       "      <td>NaN</td>\n",
       "      <td>NaN</td>\n",
       "      <td>39481</td>\n",
       "    </tr>\n",
       "    <tr>\n",
       "      <th>top</th>\n",
       "      <td>2016-03-16 21:50:53</td>\n",
       "      <td>Ford_Fiesta</td>\n",
       "      <td>privat</td>\n",
       "      <td>Angebot</td>\n",
       "      <td>$0</td>\n",
       "      <td>test</td>\n",
       "      <td>limousine</td>\n",
       "      <td>NaN</td>\n",
       "      <td>manuell</td>\n",
       "      <td>NaN</td>\n",
       "      <td>golf</td>\n",
       "      <td>150,000km</td>\n",
       "      <td>NaN</td>\n",
       "      <td>benzin</td>\n",
       "      <td>volkswagen</td>\n",
       "      <td>nein</td>\n",
       "      <td>2016-04-03 00:00:00</td>\n",
       "      <td>NaN</td>\n",
       "      <td>NaN</td>\n",
       "      <td>2016-04-07 06:17:27</td>\n",
       "    </tr>\n",
       "    <tr>\n",
       "      <th>freq</th>\n",
       "      <td>3</td>\n",
       "      <td>78</td>\n",
       "      <td>49999</td>\n",
       "      <td>49999</td>\n",
       "      <td>1421</td>\n",
       "      <td>25756</td>\n",
       "      <td>12859</td>\n",
       "      <td>NaN</td>\n",
       "      <td>36993</td>\n",
       "      <td>NaN</td>\n",
       "      <td>4024</td>\n",
       "      <td>32424</td>\n",
       "      <td>NaN</td>\n",
       "      <td>30107</td>\n",
       "      <td>10687</td>\n",
       "      <td>35232</td>\n",
       "      <td>1946</td>\n",
       "      <td>NaN</td>\n",
       "      <td>NaN</td>\n",
       "      <td>8</td>\n",
       "    </tr>\n",
       "    <tr>\n",
       "      <th>mean</th>\n",
       "      <td>NaN</td>\n",
       "      <td>NaN</td>\n",
       "      <td>NaN</td>\n",
       "      <td>NaN</td>\n",
       "      <td>NaN</td>\n",
       "      <td>NaN</td>\n",
       "      <td>NaN</td>\n",
       "      <td>2005.073280</td>\n",
       "      <td>NaN</td>\n",
       "      <td>116.355920</td>\n",
       "      <td>NaN</td>\n",
       "      <td>NaN</td>\n",
       "      <td>5.723360</td>\n",
       "      <td>NaN</td>\n",
       "      <td>NaN</td>\n",
       "      <td>NaN</td>\n",
       "      <td>NaN</td>\n",
       "      <td>0.0</td>\n",
       "      <td>50813.627300</td>\n",
       "      <td>NaN</td>\n",
       "    </tr>\n",
       "    <tr>\n",
       "      <th>std</th>\n",
       "      <td>NaN</td>\n",
       "      <td>NaN</td>\n",
       "      <td>NaN</td>\n",
       "      <td>NaN</td>\n",
       "      <td>NaN</td>\n",
       "      <td>NaN</td>\n",
       "      <td>NaN</td>\n",
       "      <td>105.712813</td>\n",
       "      <td>NaN</td>\n",
       "      <td>209.216627</td>\n",
       "      <td>NaN</td>\n",
       "      <td>NaN</td>\n",
       "      <td>3.711984</td>\n",
       "      <td>NaN</td>\n",
       "      <td>NaN</td>\n",
       "      <td>NaN</td>\n",
       "      <td>NaN</td>\n",
       "      <td>0.0</td>\n",
       "      <td>25779.747957</td>\n",
       "      <td>NaN</td>\n",
       "    </tr>\n",
       "    <tr>\n",
       "      <th>min</th>\n",
       "      <td>NaN</td>\n",
       "      <td>NaN</td>\n",
       "      <td>NaN</td>\n",
       "      <td>NaN</td>\n",
       "      <td>NaN</td>\n",
       "      <td>NaN</td>\n",
       "      <td>NaN</td>\n",
       "      <td>1000.000000</td>\n",
       "      <td>NaN</td>\n",
       "      <td>0.000000</td>\n",
       "      <td>NaN</td>\n",
       "      <td>NaN</td>\n",
       "      <td>0.000000</td>\n",
       "      <td>NaN</td>\n",
       "      <td>NaN</td>\n",
       "      <td>NaN</td>\n",
       "      <td>NaN</td>\n",
       "      <td>0.0</td>\n",
       "      <td>1067.000000</td>\n",
       "      <td>NaN</td>\n",
       "    </tr>\n",
       "    <tr>\n",
       "      <th>25%</th>\n",
       "      <td>NaN</td>\n",
       "      <td>NaN</td>\n",
       "      <td>NaN</td>\n",
       "      <td>NaN</td>\n",
       "      <td>NaN</td>\n",
       "      <td>NaN</td>\n",
       "      <td>NaN</td>\n",
       "      <td>1999.000000</td>\n",
       "      <td>NaN</td>\n",
       "      <td>70.000000</td>\n",
       "      <td>NaN</td>\n",
       "      <td>NaN</td>\n",
       "      <td>3.000000</td>\n",
       "      <td>NaN</td>\n",
       "      <td>NaN</td>\n",
       "      <td>NaN</td>\n",
       "      <td>NaN</td>\n",
       "      <td>0.0</td>\n",
       "      <td>30451.000000</td>\n",
       "      <td>NaN</td>\n",
       "    </tr>\n",
       "    <tr>\n",
       "      <th>50%</th>\n",
       "      <td>NaN</td>\n",
       "      <td>NaN</td>\n",
       "      <td>NaN</td>\n",
       "      <td>NaN</td>\n",
       "      <td>NaN</td>\n",
       "      <td>NaN</td>\n",
       "      <td>NaN</td>\n",
       "      <td>2003.000000</td>\n",
       "      <td>NaN</td>\n",
       "      <td>105.000000</td>\n",
       "      <td>NaN</td>\n",
       "      <td>NaN</td>\n",
       "      <td>6.000000</td>\n",
       "      <td>NaN</td>\n",
       "      <td>NaN</td>\n",
       "      <td>NaN</td>\n",
       "      <td>NaN</td>\n",
       "      <td>0.0</td>\n",
       "      <td>49577.000000</td>\n",
       "      <td>NaN</td>\n",
       "    </tr>\n",
       "    <tr>\n",
       "      <th>75%</th>\n",
       "      <td>NaN</td>\n",
       "      <td>NaN</td>\n",
       "      <td>NaN</td>\n",
       "      <td>NaN</td>\n",
       "      <td>NaN</td>\n",
       "      <td>NaN</td>\n",
       "      <td>NaN</td>\n",
       "      <td>2008.000000</td>\n",
       "      <td>NaN</td>\n",
       "      <td>150.000000</td>\n",
       "      <td>NaN</td>\n",
       "      <td>NaN</td>\n",
       "      <td>9.000000</td>\n",
       "      <td>NaN</td>\n",
       "      <td>NaN</td>\n",
       "      <td>NaN</td>\n",
       "      <td>NaN</td>\n",
       "      <td>0.0</td>\n",
       "      <td>71540.000000</td>\n",
       "      <td>NaN</td>\n",
       "    </tr>\n",
       "    <tr>\n",
       "      <th>max</th>\n",
       "      <td>NaN</td>\n",
       "      <td>NaN</td>\n",
       "      <td>NaN</td>\n",
       "      <td>NaN</td>\n",
       "      <td>NaN</td>\n",
       "      <td>NaN</td>\n",
       "      <td>NaN</td>\n",
       "      <td>9999.000000</td>\n",
       "      <td>NaN</td>\n",
       "      <td>17700.000000</td>\n",
       "      <td>NaN</td>\n",
       "      <td>NaN</td>\n",
       "      <td>12.000000</td>\n",
       "      <td>NaN</td>\n",
       "      <td>NaN</td>\n",
       "      <td>NaN</td>\n",
       "      <td>NaN</td>\n",
       "      <td>0.0</td>\n",
       "      <td>99998.000000</td>\n",
       "      <td>NaN</td>\n",
       "    </tr>\n",
       "  </tbody>\n",
       "</table>\n",
       "</div>"
      ],
      "text/plain": [
       "               date_crawled         name  seller offer_type  price ab_test  \\\n",
       "count                 50000        50000   50000      50000  50000   50000   \n",
       "unique                48213        38754       2          2   2357       2   \n",
       "top     2016-03-16 21:50:53  Ford_Fiesta  privat    Angebot     $0    test   \n",
       "freq                      3           78   49999      49999   1421   25756   \n",
       "mean                    NaN          NaN     NaN        NaN    NaN     NaN   \n",
       "std                     NaN          NaN     NaN        NaN    NaN     NaN   \n",
       "min                     NaN          NaN     NaN        NaN    NaN     NaN   \n",
       "25%                     NaN          NaN     NaN        NaN    NaN     NaN   \n",
       "50%                     NaN          NaN     NaN        NaN    NaN     NaN   \n",
       "75%                     NaN          NaN     NaN        NaN    NaN     NaN   \n",
       "max                     NaN          NaN     NaN        NaN    NaN     NaN   \n",
       "\n",
       "       vehicle_type  registration_year  gearbox      power_ps  model  \\\n",
       "count         44905       50000.000000    47320  50000.000000  47242   \n",
       "unique            8                NaN        2           NaN    245   \n",
       "top       limousine                NaN  manuell           NaN   golf   \n",
       "freq          12859                NaN    36993           NaN   4024   \n",
       "mean            NaN        2005.073280      NaN    116.355920    NaN   \n",
       "std             NaN         105.712813      NaN    209.216627    NaN   \n",
       "min             NaN        1000.000000      NaN      0.000000    NaN   \n",
       "25%             NaN        1999.000000      NaN     70.000000    NaN   \n",
       "50%             NaN        2003.000000      NaN    105.000000    NaN   \n",
       "75%             NaN        2008.000000      NaN    150.000000    NaN   \n",
       "max             NaN        9999.000000      NaN  17700.000000    NaN   \n",
       "\n",
       "         odometer  registration_month fuel_type       brand unrepaired_damage  \\\n",
       "count       50000        50000.000000     45518       50000             40171   \n",
       "unique         13                 NaN         7          40                 2   \n",
       "top     150,000km                 NaN    benzin  volkswagen              nein   \n",
       "freq        32424                 NaN     30107       10687             35232   \n",
       "mean          NaN            5.723360       NaN         NaN               NaN   \n",
       "std           NaN            3.711984       NaN         NaN               NaN   \n",
       "min           NaN            0.000000       NaN         NaN               NaN   \n",
       "25%           NaN            3.000000       NaN         NaN               NaN   \n",
       "50%           NaN            6.000000       NaN         NaN               NaN   \n",
       "75%           NaN            9.000000       NaN         NaN               NaN   \n",
       "max           NaN           12.000000       NaN         NaN               NaN   \n",
       "\n",
       "                 ad_created  nr_of_pictures   postal_code            last_seen  \n",
       "count                 50000         50000.0  50000.000000                50000  \n",
       "unique                   76             NaN           NaN                39481  \n",
       "top     2016-04-03 00:00:00             NaN           NaN  2016-04-07 06:17:27  \n",
       "freq                   1946             NaN           NaN                    8  \n",
       "mean                    NaN             0.0  50813.627300                  NaN  \n",
       "std                     NaN             0.0  25779.747957                  NaN  \n",
       "min                     NaN             0.0   1067.000000                  NaN  \n",
       "25%                     NaN             0.0  30451.000000                  NaN  \n",
       "50%                     NaN             0.0  49577.000000                  NaN  \n",
       "75%                     NaN             0.0  71540.000000                  NaN  \n",
       "max                     NaN             0.0  99998.000000                  NaN  "
      ]
     },
     "execution_count": 11,
     "metadata": {},
     "output_type": "execute_result"
    }
   ],
   "source": [
    "autos.describe(include='all')\n"
   ]
  },
  {
   "cell_type": "markdown",
   "metadata": {},
   "source": [
    "### Observações"
   ]
  },
  {
   "cell_type": "markdown",
   "metadata": {},
   "source": [
    "* a coluna `name` contém informações ilegíveis, por isso precisa ser trabalhada\n",
    "* as colunas `vehicle_type`, `fuel_type`, `unrepaired_damage` têm valores vazios\n",
    "* alguns dados contêm termos alemães \n",
    "* as colunas `price` e `odometer` devem ser numéricas, mas estão armazenadas como strings"
   ]
  },
  {
   "cell_type": "markdown",
   "metadata": {},
   "source": [
    "## Limpando os Dados"
   ]
  },
  {
   "cell_type": "markdown",
   "metadata": {},
   "source": [
    "Descartaremos algumas colunas que não nos serão úteis:"
   ]
  },
  {
   "cell_type": "code",
   "execution_count": 12,
   "metadata": {},
   "outputs": [],
   "source": [
    "# salvando os dados em um novo arquivo\n",
    "autos.to_csv('autos_step_1.csv', index = False)\n",
    "# ler o novo arquivo\n",
    "carros_1 = pd.read_csv(\"autos_step_1.csv\", encoding = 'Latin-1')"
   ]
  },
  {
   "cell_type": "code",
   "execution_count": 13,
   "metadata": {},
   "outputs": [],
   "source": [
    "carros_1.drop(['seller','offer_type','nr_of_pictures', 'postal_code','registration_month' ],axis=1,inplace=True)"
   ]
  },
  {
   "cell_type": "code",
   "execution_count": 14,
   "metadata": {},
   "outputs": [
    {
     "name": "stdout",
     "output_type": "stream",
     "text": [
      "<class 'pandas.core.frame.DataFrame'>\n",
      "RangeIndex: 50000 entries, 0 to 49999\n",
      "Data columns (total 15 columns):\n",
      " #   Column             Non-Null Count  Dtype \n",
      "---  ------             --------------  ----- \n",
      " 0   date_crawled       50000 non-null  object\n",
      " 1   name               50000 non-null  object\n",
      " 2   price              50000 non-null  object\n",
      " 3   ab_test            50000 non-null  object\n",
      " 4   vehicle_type       44905 non-null  object\n",
      " 5   registration_year  50000 non-null  int64 \n",
      " 6   gearbox            47320 non-null  object\n",
      " 7   power_ps           50000 non-null  int64 \n",
      " 8   model              47242 non-null  object\n",
      " 9   odometer           50000 non-null  object\n",
      " 10  fuel_type          45518 non-null  object\n",
      " 11  brand              50000 non-null  object\n",
      " 12  unrepaired_damage  40171 non-null  object\n",
      " 13  ad_created         50000 non-null  object\n",
      " 14  last_seen          50000 non-null  object\n",
      "dtypes: int64(2), object(13)\n",
      "memory usage: 5.7+ MB\n"
     ]
    }
   ],
   "source": [
    "carros_1.info()"
   ]
  },
  {
   "cell_type": "markdown",
   "metadata": {},
   "source": [
    "Agora há 15 colunas "
   ]
  },
  {
   "cell_type": "markdown",
   "metadata": {},
   "source": [
    "#### Valores negativos"
   ]
  },
  {
   "cell_type": "code",
   "execution_count": 15,
   "metadata": {},
   "outputs": [],
   "source": [
    "carros_1[[\"vehicle_type\", \"fuel_type\", \"unrepaired_damage\"]] = carros_1[[\"vehicle_type\", \"fuel_type\", \"unrepaired_damage\"]].fillna('unknown')"
   ]
  },
  {
   "cell_type": "code",
   "execution_count": 16,
   "metadata": {},
   "outputs": [
    {
     "data": {
      "text/plain": [
       "array(['lpg', 'benzin', 'diesel', 'unknown', 'cng', 'hybrid', 'elektro',\n",
       "       'andere'], dtype=object)"
      ]
     },
     "execution_count": 16,
     "metadata": {},
     "output_type": "execute_result"
    }
   ],
   "source": [
    "carros_1['fuel_type'].unique()\n"
   ]
  },
  {
   "cell_type": "code",
   "execution_count": 17,
   "metadata": {},
   "outputs": [
    {
     "name": "stdout",
     "output_type": "stream",
     "text": [
      "<class 'pandas.core.frame.DataFrame'>\n",
      "RangeIndex: 50000 entries, 0 to 49999\n",
      "Data columns (total 15 columns):\n",
      " #   Column             Non-Null Count  Dtype \n",
      "---  ------             --------------  ----- \n",
      " 0   date_crawled       50000 non-null  object\n",
      " 1   name               50000 non-null  object\n",
      " 2   price              50000 non-null  object\n",
      " 3   ab_test            50000 non-null  object\n",
      " 4   vehicle_type       50000 non-null  object\n",
      " 5   registration_year  50000 non-null  int64 \n",
      " 6   gearbox            47320 non-null  object\n",
      " 7   power_ps           50000 non-null  int64 \n",
      " 8   model              47242 non-null  object\n",
      " 9   odometer           50000 non-null  object\n",
      " 10  fuel_type          50000 non-null  object\n",
      " 11  brand              50000 non-null  object\n",
      " 12  unrepaired_damage  50000 non-null  object\n",
      " 13  ad_created         50000 non-null  object\n",
      " 14  last_seen          50000 non-null  object\n",
      "dtypes: int64(2), object(13)\n",
      "memory usage: 5.7+ MB\n"
     ]
    }
   ],
   "source": [
    "carros_1.info()"
   ]
  },
  {
   "cell_type": "markdown",
   "metadata": {},
   "source": [
    "Ora, mais duas colunas têm valor vazio. \n",
    "Como já preenchemos várias colunas com valores, faremos o mesmo, e não alteraremos o código acima."
   ]
  },
  {
   "cell_type": "code",
   "execution_count": 18,
   "metadata": {},
   "outputs": [],
   "source": [
    "carros_1[[\"gearbox\", \"model\"]] = carros_1[[\"gearbox\", \"model\"]].fillna('unknown')"
   ]
  },
  {
   "cell_type": "code",
   "execution_count": 19,
   "metadata": {},
   "outputs": [
    {
     "data": {
      "text/plain": [
       "array(['manuell', 'automatik', 'unknown'], dtype=object)"
      ]
     },
     "execution_count": 19,
     "metadata": {},
     "output_type": "execute_result"
    }
   ],
   "source": [
    "carros_1['gearbox'].unique()"
   ]
  },
  {
   "cell_type": "code",
   "execution_count": 20,
   "metadata": {},
   "outputs": [
    {
     "name": "stdout",
     "output_type": "stream",
     "text": [
      "<class 'pandas.core.frame.DataFrame'>\n",
      "RangeIndex: 50000 entries, 0 to 49999\n",
      "Data columns (total 15 columns):\n",
      " #   Column             Non-Null Count  Dtype \n",
      "---  ------             --------------  ----- \n",
      " 0   date_crawled       50000 non-null  object\n",
      " 1   name               50000 non-null  object\n",
      " 2   price              50000 non-null  object\n",
      " 3   ab_test            50000 non-null  object\n",
      " 4   vehicle_type       50000 non-null  object\n",
      " 5   registration_year  50000 non-null  int64 \n",
      " 6   gearbox            50000 non-null  object\n",
      " 7   power_ps           50000 non-null  int64 \n",
      " 8   model              50000 non-null  object\n",
      " 9   odometer           50000 non-null  object\n",
      " 10  fuel_type          50000 non-null  object\n",
      " 11  brand              50000 non-null  object\n",
      " 12  unrepaired_damage  50000 non-null  object\n",
      " 13  ad_created         50000 non-null  object\n",
      " 14  last_seen          50000 non-null  object\n",
      "dtypes: int64(2), object(13)\n",
      "memory usage: 5.7+ MB\n"
     ]
    }
   ],
   "source": [
    "carros_1.info()"
   ]
  },
  {
   "cell_type": "markdown",
   "metadata": {},
   "source": [
    "Finalmente, não há nenhum valor vazio. Vamos para o próximo passo:\n",
    "* traduzir os significados para o inglês"
   ]
  },
  {
   "cell_type": "code",
   "execution_count": 21,
   "metadata": {},
   "outputs": [
    {
     "name": "stdout",
     "output_type": "stream",
     "text": [
      "Não             35232\n",
      "Desconhecido     9829\n",
      "Sim              4939\n",
      "Name: unrepaired_damage, dtype: int64\n"
     ]
    }
   ],
   "source": [
    "carros_1[\"unrepaired_damage\"] = carros_1[\"unrepaired_damage\"].str.replace('nein','Não')\\\n",
    ".str.replace('ja', 'Sim').str.replace('unknown', 'Desconhecido')\n",
    "un_damage_counts = carros_1['unrepaired_damage'].value_counts()\n",
    "print(un_damage_counts)"
   ]
  },
  {
   "cell_type": "code",
   "execution_count": 22,
   "metadata": {},
   "outputs": [
    {
     "name": "stdout",
     "output_type": "stream",
     "text": [
      "sedan           12859\n",
      "small_car       10822\n",
      "estate_wagon     9127\n",
      "unknown          5095\n",
      "bus              4093\n",
      "convertible      3061\n",
      "coupe            2537\n",
      "suv              1986\n",
      "other             420\n",
      "Name: vehicle_type, dtype: int64\n"
     ]
    }
   ],
   "source": [
    "carros_1[\"vehicle_type\"] = carros_1[\"vehicle_type\"].str.replace('kleinwagen','small_car').str.replace('limousine', 'sedan').str.replace('cabrio', 'convertible')\\\n",
    "    .str.replace('andere', 'other').str.replace('kombi','estate_wagon')\n",
    "vehicle_type_counts = carros_1['vehicle_type'].value_counts()\n",
    "print(vehicle_type_counts)"
   ]
  },
  {
   "cell_type": "code",
   "execution_count": 23,
   "metadata": {},
   "outputs": [],
   "source": [
    "carros_1[\"gearbox\"] = carros_1[\"gearbox\"].str.replace('manuell','manual').str.replace('automatik', 'automatico')"
   ]
  },
  {
   "cell_type": "code",
   "execution_count": 24,
   "metadata": {},
   "outputs": [
    {
     "data": {
      "text/plain": [
       "array(['manual', 'automatico', 'unknown'], dtype=object)"
      ]
     },
     "execution_count": 24,
     "metadata": {},
     "output_type": "execute_result"
    }
   ],
   "source": [
    "carros_1['gearbox'].unique()"
   ]
  },
  {
   "cell_type": "markdown",
   "metadata": {},
   "source": [
    "## Substituindo Nomes"
   ]
  },
  {
   "cell_type": "code",
   "execution_count": 25,
   "metadata": {},
   "outputs": [],
   "source": [
    "carros_1['brand']= carros_1['brand'].str.title()"
   ]
  },
  {
   "cell_type": "code",
   "execution_count": 26,
   "metadata": {},
   "outputs": [
    {
     "data": {
      "text/plain": [
       "array(['Peugeot', 'Bmw', 'Volkswagen', 'Smart', 'Ford', 'Chrysler',\n",
       "       'Seat', 'Renault', 'Mercedes_Benz', 'Audi', 'Sonstige_Autos',\n",
       "       'Opel', 'Mazda', 'Porsche', 'Mini', 'Toyota', 'Dacia', 'Nissan',\n",
       "       'Jeep', 'Saab', 'Volvo', 'Mitsubishi', 'Jaguar', 'Fiat', 'Skoda',\n",
       "       'Subaru', 'Kia', 'Citroen', 'Chevrolet', 'Hyundai', 'Honda',\n",
       "       'Daewoo', 'Suzuki', 'Trabant', 'Land_Rover', 'Alfa_Romeo', 'Lada',\n",
       "       'Rover', 'Daihatsu', 'Lancia'], dtype=object)"
      ]
     },
     "execution_count": 26,
     "metadata": {},
     "output_type": "execute_result"
    }
   ],
   "source": [
    "carros_1['brand'].unique()"
   ]
  },
  {
   "cell_type": "code",
   "execution_count": 27,
   "metadata": {},
   "outputs": [],
   "source": [
    "# Substituição dos nomes\n",
    "carros_1[\"brand\"] = carros_1[\"brand\"].str.replace('Bmw','BMW').str.replace('Seat', 'SEAT')\\\n",
    "    .str.replace('Mini', 'MINI').str.replace('Saab','SAAB').str.replace('Mercedes_Benz', 'Mercedes Benz')\\\n",
    "    .str.replace('Sonstige_Autos', 'Sonstige Autos').str.replace('Land_Rover', 'Land Rover').str.replace('Alfa_Romeo', 'Alfa Romeo')"
   ]
  },
  {
   "cell_type": "code",
   "execution_count": 28,
   "metadata": {},
   "outputs": [
    {
     "name": "stdout",
     "output_type": "stream",
     "text": [
      "Volkswagen        10687\n",
      "Opel               5461\n",
      "BMW                5429\n",
      "Mercedes Benz      4734\n",
      "Audi               4283\n",
      "Ford               3479\n",
      "Renault            2404\n",
      "Peugeot            1456\n",
      "Fiat               1308\n",
      "SEAT                941\n",
      "Skoda               786\n",
      "Mazda               757\n",
      "Nissan              754\n",
      "Citroen             701\n",
      "Smart               701\n",
      "Toyota              617\n",
      "Sonstige Autos      546\n",
      "Hyundai             488\n",
      "Volvo               457\n",
      "MINI                424\n",
      "Mitsubishi          406\n",
      "Honda               399\n",
      "Kia                 356\n",
      "Alfa Romeo          329\n",
      "Porsche             294\n",
      "Suzuki              293\n",
      "Chevrolet           283\n",
      "Chrysler            181\n",
      "Dacia               129\n",
      "Daihatsu            128\n",
      "Jeep                110\n",
      "Subaru              109\n",
      "Land Rover           99\n",
      "SAAB                 80\n",
      "Daewoo               79\n",
      "Trabant              78\n",
      "Jaguar               77\n",
      "Rover                69\n",
      "Lancia               57\n",
      "Lada                 31\n",
      "Name: brand, dtype: int64\n"
     ]
    }
   ],
   "source": [
    "# Verifica com que frequência cada marca aparece nos dados\n",
    "n_marcas = carros_1['brand'].value_counts()\n",
    "print(n_marcas)"
   ]
  },
  {
   "cell_type": "code",
   "execution_count": 29,
   "metadata": {},
   "outputs": [
    {
     "name": "stdout",
     "output_type": "stream",
     "text": [
      " A marca mais popular é a Volkswagen ( 10687 cars), a menos popular é a Lada ( 31 cars).\n",
      "\n"
     ]
    }
   ],
   "source": [
    "print(\" A marca mais popular é a Volkswagen (\", n_marcas.max(),\n",
    "      \"cars), a menos popular é a Lada (\", n_marcas.min(),\"cars).\\n\")"
   ]
  },
  {
   "cell_type": "markdown",
   "metadata": {},
   "source": [
    "As colunas `preço` e `odômetro` devem ser numéricas, mas são armazenadas como strings, portanto, devem ser limpas e convertidas para o formato numérico."
   ]
  },
  {
   "cell_type": "code",
   "execution_count": 30,
   "metadata": {},
   "outputs": [
    {
     "name": "stdout",
     "output_type": "stream",
     "text": [
      "$0          1421\n",
      "$500         781\n",
      "$1,500       734\n",
      "$2,500       643\n",
      "$1,200       639\n",
      "            ... \n",
      "$7,240         1\n",
      "$30,899        1\n",
      "$9,280         1\n",
      "$310           1\n",
      "$145,000       1\n",
      "Name: price, Length: 2357, dtype: int64\n"
     ]
    }
   ],
   "source": [
    "# Coluna de preços\n",
    "n_preco = carros_1['price'].value_counts()\n",
    "print(n_preco)"
   ]
  },
  {
   "cell_type": "code",
   "execution_count": 31,
   "metadata": {},
   "outputs": [],
   "source": [
    "# Removendo caracteres\n",
    "carros_1[\"price_$\"] = carros_1[\"price\"].str.replace(\"$\",\"\").str.replace(\",\", \"\")"
   ]
  },
  {
   "cell_type": "code",
   "execution_count": 32,
   "metadata": {},
   "outputs": [
    {
     "data": {
      "text/plain": [
       "array([ True])"
      ]
     },
     "execution_count": 32,
     "metadata": {},
     "output_type": "execute_result"
    }
   ],
   "source": [
    "carros_1[\"price_$\"].str.isdigit().unique()"
   ]
  },
  {
   "cell_type": "code",
   "execution_count": 33,
   "metadata": {},
   "outputs": [
    {
     "name": "stdout",
     "output_type": "stream",
     "text": [
      "150,000km    32424\n",
      "125,000km     5170\n",
      "100,000km     2169\n",
      "90,000km      1757\n",
      "80,000km      1436\n",
      "70,000km      1230\n",
      "60,000km      1164\n",
      "50,000km      1027\n",
      "5,000km        967\n",
      "40,000km       819\n",
      "30,000km       789\n",
      "20,000km       784\n",
      "10,000km       264\n",
      "Name: odometer, dtype: int64\n"
     ]
    }
   ],
   "source": [
    "# Odômetro\n",
    "n_odo = carros_1['odometer'].value_counts()\n",
    "print(n_odo)"
   ]
  },
  {
   "cell_type": "code",
   "execution_count": 34,
   "metadata": {},
   "outputs": [],
   "source": [
    "# Removendo  'km' e ','.\n",
    "carros_1[\"odometer_km\"] = carros_1[\"odometer\"].str.replace(\"km\",\"\").str.replace(\",\", \"\")"
   ]
  },
  {
   "cell_type": "code",
   "execution_count": 35,
   "metadata": {},
   "outputs": [
    {
     "data": {
      "text/plain": [
       "array([ True])"
      ]
     },
     "execution_count": 35,
     "metadata": {},
     "output_type": "execute_result"
    }
   ],
   "source": [
    "carros_1[\"odometer_km\"].str.isdigit().unique()"
   ]
  },
  {
   "cell_type": "markdown",
   "metadata": {},
   "source": [
    "#### Convertendo os dados para o formato numérico"
   ]
  },
  {
   "cell_type": "code",
   "execution_count": 36,
   "metadata": {},
   "outputs": [],
   "source": [
    "carros_1[\"price_$\"] = carros_1[\"price_$\"].astype(int)\n",
    "carros_1[\"odometer_km\"] = carros_1[\"odometer_km\"].astype(int)"
   ]
  },
  {
   "cell_type": "code",
   "execution_count": 37,
   "metadata": {},
   "outputs": [
    {
     "name": "stdout",
     "output_type": "stream",
     "text": [
      "Tipo da coluna preço : int64 ;\n",
      " Tipo da coluna odometro : int64\n"
     ]
    }
   ],
   "source": [
    "print(\"Tipo da coluna preço :\", carros_1[\"price_$\"].dtype,\\\n",
    "      \";\\n Tipo da coluna odometro :\", carros_1[\"odometer_km\"].dtype )"
   ]
  },
  {
   "cell_type": "markdown",
   "metadata": {},
   "source": [
    "#### Converter a coluna `date_crawled`"
   ]
  },
  {
   "cell_type": "code",
   "execution_count": 42,
   "metadata": {},
   "outputs": [
    {
     "name": "stdout",
     "output_type": "stream",
     "text": [
      "Requirement already satisfied: datetime in /dataquest/system/env/python3/lib/python3.8/site-packages (4.4)\n",
      "Requirement already satisfied: zope.interface in /dataquest/system/env/python3/lib/python3.8/site-packages (from datetime) (5.4.0)\n",
      "Requirement already satisfied: pytz in /dataquest/system/env/python3/lib/python3.8/site-packages (from datetime) (2020.4)\n",
      "Requirement already satisfied: setuptools in /dataquest/system/env/python3/lib/python3.8/site-packages (from zope.interface->datetime) (50.3.2)\n",
      "\u001b[33mWARNING: You are using pip version 20.3; however, version 22.1.2 is available.\n",
      "You should consider upgrading via the '/dataquest/system/env/python3/bin/python3 -m pip install --upgrade pip' command.\u001b[0m\n",
      "Note: you may need to restart the kernel to use updated packages.\n"
     ]
    }
   ],
   "source": [
    "%pip install datetime\n",
    "import datetime as dt\n",
    "def formatDate(dataset,column):\n",
    "    dateformato = []\n",
    "    for element in dataset[column]:\n",
    "        element = dt.datetime.strptime(element, \"%Y-%m-%d %H:%M:%S\")\n",
    "        element = element.date()\n",
    "        dateformato.append(element)\n",
    "    dataset[column] = dateformato         "
   ]
  },
  {
   "cell_type": "code",
   "execution_count": 40,
   "metadata": {},
   "outputs": [],
   "source": [
    "formatDate(carros_1,'date_crawled')"
   ]
  },
  {
   "cell_type": "code",
   "execution_count": 43,
   "metadata": {},
   "outputs": [
    {
     "name": "stdout",
     "output_type": "stream",
     "text": [
      "2016-03-05    2.538\n",
      "2016-03-06    1.394\n",
      "2016-03-07    3.596\n",
      "2016-03-08    3.330\n",
      "2016-03-09    3.322\n",
      "2016-03-10    3.212\n",
      "2016-03-11    3.248\n",
      "2016-03-12    3.678\n",
      "2016-03-13    1.556\n",
      "2016-03-14    3.662\n",
      "2016-03-15    3.398\n",
      "2016-03-16    2.950\n",
      "2016-03-17    3.152\n",
      "2016-03-18    1.306\n",
      "2016-03-19    3.490\n",
      "2016-03-20    3.782\n",
      "2016-03-21    3.752\n",
      "2016-03-22    3.294\n",
      "2016-03-23    3.238\n",
      "2016-03-24    2.910\n",
      "2016-03-25    3.174\n",
      "2016-03-26    3.248\n",
      "2016-03-27    3.104\n",
      "2016-03-28    3.484\n",
      "2016-03-29    3.418\n",
      "2016-03-30    3.362\n",
      "2016-03-31    3.192\n",
      "2016-04-01    3.380\n",
      "2016-04-02    3.540\n",
      "2016-04-03    3.868\n",
      "2016-04-04    3.652\n",
      "2016-04-05    1.310\n",
      "2016-04-06    0.318\n",
      "2016-04-07    0.142\n",
      "Name: date_crawled, dtype: float64\n"
     ]
    }
   ],
   "source": [
    "n_dcrawled = carros_1['date_crawled'].value_counts(normalize=True, dropna = False).sort_index(ascending=True)*100\n",
    "print(n_dcrawled )"
   ]
  },
  {
   "cell_type": "code",
   "execution_count": 44,
   "metadata": {},
   "outputs": [
    {
     "name": "stdout",
     "output_type": "stream",
     "text": [
      "A data mais recente é 2016-03-05 , a última é 2016-04-07 .\n",
      " Os dados contém informações de cerca de mês -  33 days, 0:00:00\n"
     ]
    }
   ],
   "source": [
    "periodo = n_dcrawled.index.max() - n_dcrawled.index.min()\n",
    "print (\"A data mais recente é\", n_dcrawled.index.min(), \", a última é\", n_dcrawled.index.max(),\\\n",
    "       \".\\n Os dados contém informações de cerca de mês - \", periodo)"
   ]
  },
  {
   "cell_type": "code",
   "execution_count": 45,
   "metadata": {},
   "outputs": [
    {
     "data": {
      "text/plain": [
       "count          50000\n",
       "unique            34\n",
       "top       2016-04-03\n",
       "freq            1934\n",
       "Name: date_crawled, dtype: object"
      ]
     },
     "execution_count": 45,
     "metadata": {},
     "output_type": "execute_result"
    }
   ],
   "source": [
    "carros_1['date_crawled'].describe()"
   ]
  },
  {
   "cell_type": "code",
   "execution_count": 46,
   "metadata": {},
   "outputs": [
    {
     "name": "stdout",
     "output_type": "stream",
     "text": [
      "Na coluna `date_crawled` há 34 dados únicos para 50000 colunas.\n",
      " No dia 03 de Abril 2016 foram feitas a maior quantidade de registros\n"
     ]
    }
   ],
   "source": [
    "print(\"Na coluna `date_crawled` há\", len(carros_1['date_crawled'].unique()),\\\n",
    "      \"dados únicos para\", len(carros_1) ,\\\n",
    "      \"colunas.\\n No dia 03 de Abril 2016 foram feitas a maior quantidade de registros\")"
   ]
  },
  {
   "cell_type": "markdown",
   "metadata": {},
   "source": [
    "#### Converter a coluna `ad_created`"
   ]
  },
  {
   "cell_type": "code",
   "execution_count": 47,
   "metadata": {},
   "outputs": [],
   "source": [
    "formatDate(carros_1,'ad_created')"
   ]
  },
  {
   "cell_type": "code",
   "execution_count": 48,
   "metadata": {},
   "outputs": [
    {
     "name": "stdout",
     "output_type": "stream",
     "text": [
      "2015-06-11    0.002\n",
      "2015-08-10    0.002\n",
      "2015-09-09    0.002\n",
      "2015-11-10    0.002\n",
      "2015-12-05    0.002\n",
      "              ...  \n",
      "2016-04-03    3.892\n",
      "2016-04-04    3.688\n",
      "2016-04-05    1.184\n",
      "2016-04-06    0.326\n",
      "2016-04-07    0.128\n",
      "Name: ad_created, Length: 76, dtype: float64\n"
     ]
    }
   ],
   "source": [
    "n_ad_created = carros_1['ad_created'].value_counts(normalize=True, dropna = False).sort_index(ascending=True)*100\n",
    "print(n_ad_created)"
   ]
  },
  {
   "cell_type": "code",
   "execution_count": 49,
   "metadata": {},
   "outputs": [
    {
     "name": "stdout",
     "output_type": "stream",
     "text": [
      "Existem 76 valores únicos em 'ad_created'.\n",
      " A primeira data é 2015-06-11 , a última é 2016-04-07 .\n",
      " Assim, os dados contêm registros de 301 days, 0:00:00\n"
     ]
    }
   ],
   "source": [
    "periodo_ad = n_ad_created.index.max() - n_ad_created.index.min()\n",
    "print(\"Existem\", len(carros_1['ad_created'].unique()), \"valores únicos em 'ad_created'.\\n A primeira data é\"\\\n",
    ", n_ad_created.index.min(),\", a última é\",n_ad_created.index.max(),\".\\n Assim, os dados contêm registros de\", periodo_ad) "
   ]
  },
  {
   "cell_type": "code",
   "execution_count": 50,
   "metadata": {},
   "outputs": [
    {
     "data": {
      "text/plain": [
       "count          50000\n",
       "unique            76\n",
       "top       2016-04-03\n",
       "freq            1946\n",
       "Name: ad_created, dtype: object"
      ]
     },
     "execution_count": 50,
     "metadata": {},
     "output_type": "execute_result"
    }
   ],
   "source": [
    "carros_1['ad_created'].describe()"
   ]
  },
  {
   "cell_type": "markdown",
   "metadata": {},
   "source": [
    " Vemos que no dia 03 de abril de 2016 houve a maior quantidade de registros (1946 linhas)."
   ]
  },
  {
   "cell_type": "markdown",
   "metadata": {},
   "source": [
    "#### Converter a coluna `last_seen`"
   ]
  },
  {
   "cell_type": "code",
   "execution_count": 51,
   "metadata": {},
   "outputs": [],
   "source": [
    "formatDate(carros_1,'last_seen')"
   ]
  },
  {
   "cell_type": "code",
   "execution_count": 52,
   "metadata": {},
   "outputs": [
    {
     "name": "stdout",
     "output_type": "stream",
     "text": [
      "2016-03-05     0.108\n",
      "2016-03-06     0.442\n",
      "2016-03-07     0.536\n",
      "2016-03-08     0.760\n",
      "2016-03-09     0.986\n",
      "2016-03-10     1.076\n",
      "2016-03-11     1.252\n",
      "2016-03-12     2.382\n",
      "2016-03-13     0.898\n",
      "2016-03-14     1.280\n",
      "2016-03-15     1.588\n",
      "2016-03-16     1.644\n",
      "2016-03-17     2.792\n",
      "2016-03-18     0.742\n",
      "2016-03-19     1.574\n",
      "2016-03-20     2.070\n",
      "2016-03-21     2.074\n",
      "2016-03-22     2.158\n",
      "2016-03-23     1.858\n",
      "2016-03-24     1.956\n",
      "2016-03-25     1.920\n",
      "2016-03-26     1.696\n",
      "2016-03-27     1.602\n",
      "2016-03-28     2.086\n",
      "2016-03-29     2.234\n",
      "2016-03-30     2.484\n",
      "2016-03-31     2.384\n",
      "2016-04-01     2.310\n",
      "2016-04-02     2.490\n",
      "2016-04-03     2.536\n",
      "2016-04-04     2.462\n",
      "2016-04-05    12.428\n",
      "2016-04-06    22.100\n",
      "2016-04-07    13.092\n",
      "Name: last_seen, dtype: float64\n"
     ]
    }
   ],
   "source": [
    "n_last_seen = carros_1['last_seen'].value_counts(normalize=True, dropna = False).sort_index(ascending=True)*100\n",
    "print(n_last_seen)"
   ]
  },
  {
   "cell_type": "code",
   "execution_count": 53,
   "metadata": {},
   "outputs": [
    {
     "data": {
      "text/plain": [
       "count          50000\n",
       "unique            34\n",
       "top       2016-04-06\n",
       "freq           11050\n",
       "Name: last_seen, dtype: object"
      ]
     },
     "execution_count": 53,
     "metadata": {},
     "output_type": "execute_result"
    }
   ],
   "source": [
    "carros_1['last_seen'].describe()"
   ]
  },
  {
   "cell_type": "code",
   "execution_count": 54,
   "metadata": {},
   "outputs": [
    {
     "name": "stdout",
     "output_type": "stream",
     "text": [
      "Existem 34 valores únicos na coluna 'last_seen'.\n",
      " A data mais antiga é 2016-03-05 , o mais recente é 2016-04-07 .\n",
      " Assim, os dados contêm registros para 33 days, 0:00:00\n"
     ]
    }
   ],
   "source": [
    "periodo_ls = n_last_seen.index.max() - n_last_seen.index.min()\n",
    "print(\"Existem\", len(carros_1['last_seen'].unique()), \"valores únicos na coluna 'last_seen'.\\n A data mais antiga é\"\\\n",
    ", n_last_seen.index.min(),\", o mais recente é\", n_last_seen.index.max(),\".\\n Assim, os dados contêm registros para\", periodo_ls)"
   ]
  },
  {
   "cell_type": "markdown",
   "metadata": {},
   "source": [
    "Vemos que no dia 06 de abril de 2016 houve a maior quantidade de registros (11.050 linhas)."
   ]
  },
  {
   "cell_type": "markdown",
   "metadata": {},
   "source": [
    "#### Explorando a coluna `registration_year` "
   ]
  },
  {
   "cell_type": "markdown",
   "metadata": {},
   "source": [
    " O tipo de dados é int64 (o método df.info()), então não é necessário converter os dados."
   ]
  },
  {
   "cell_type": "code",
   "execution_count": 59,
   "metadata": {},
   "outputs": [
    {
     "name": "stdout",
     "output_type": "stream",
     "text": [
      "1000    0.002\n",
      "1001    0.002\n",
      "1111    0.002\n",
      "1500    0.002\n",
      "1800    0.004\n",
      "        ...  \n",
      "6200    0.002\n",
      "8888    0.002\n",
      "9000    0.004\n",
      "9996    0.002\n",
      "9999    0.008\n",
      "Name: registration_year, Length: 97, dtype: float64\n"
     ]
    }
   ],
   "source": [
    "n_reg_ano = carros_1['registration_year'].value_counts(normalize=True, dropna = False).sort_index(ascending=True)*100\n",
    "print(n_reg_ano)"
   ]
  },
  {
   "cell_type": "markdown",
   "metadata": {},
   "source": [
    "O registro do carro começou em 1899 em Munique. E o ano de registro não pode ser posterior ao anúncio. Os dados nesta coluna devem ser limpos."
   ]
  },
  {
   "cell_type": "code",
   "execution_count": 60,
   "metadata": {},
   "outputs": [
    {
     "data": {
      "text/plain": [
       "count    50000.000000\n",
       "mean      2005.073280\n",
       "std        105.712813\n",
       "min       1000.000000\n",
       "25%       1999.000000\n",
       "50%       2003.000000\n",
       "75%       2008.000000\n",
       "max       9999.000000\n",
       "Name: registration_year, dtype: float64"
      ]
     },
     "execution_count": 60,
     "metadata": {},
     "output_type": "execute_result"
    }
   ],
   "source": [
    "carros_1['registration_year'].describe()"
   ]
  },
  {
   "cell_type": "code",
   "execution_count": 61,
   "metadata": {},
   "outputs": [
    {
     "name": "stdout",
     "output_type": "stream",
     "text": [
      "Existem 97 valores únicos em `registration_year`.\n",
      " A data mais antiga é 1000 , a mais recente é 9999 .\n",
      " Assim, os dados contêm registros de 8999 years\n"
     ]
    }
   ],
   "source": [
    "periodo_reg = n_reg_ano.index.max() - n_reg_ano.index.min()\n",
    "print(\"Existem\", len(carros_1['registration_year'].unique()), \"valores únicos em `registration_year`.\\n A data mais antiga é\"\\\n",
    ", n_reg_ano.index.min(),\", a mais recente é\", n_reg_ano.index.max(),\".\\n Assim, os dados contêm registros de\", periodo_reg, \"years\")"
   ]
  },
  {
   "cell_type": "markdown",
   "metadata": {},
   "source": [
    "#### Removendo dados imprecisos da coluna `registration_year`"
   ]
  },
  {
   "cell_type": "markdown",
   "metadata": {},
   "source": [
    "Tomaremos 1900 como o limite inferior. Acima, descobrimos qual é a última data de criação dos registros no eBay, 07 de abril de 2016.\n",
    "\n",
    "Tomaremos 2015 como o limite superior."
   ]
  },
  {
   "cell_type": "code",
   "execution_count": 62,
   "metadata": {},
   "outputs": [],
   "source": [
    "# removendo dados imprecisos \n",
    "carros_1 = carros_1[carros_1['registration_year'].between(1900,2015)]"
   ]
  },
  {
   "cell_type": "code",
   "execution_count": 63,
   "metadata": {},
   "outputs": [
    {
     "name": "stdout",
     "output_type": "stream",
     "text": [
      "1910    0.019267\n",
      "1927    0.002141\n",
      "1929    0.002141\n",
      "1931    0.002141\n",
      "1934    0.004282\n",
      "          ...   \n",
      "2011    3.498030\n",
      "2012    2.832249\n",
      "2013    1.725467\n",
      "2014    1.425758\n",
      "2015    0.854170\n",
      "Name: registration_year, Length: 77, dtype: float64\n"
     ]
    }
   ],
   "source": [
    "n_reg_ano = carros_1['registration_year'].value_counts(normalize=True, dropna = False).sort_index(ascending=True)*100\n",
    "print(n_reg_ano)"
   ]
  },
  {
   "cell_type": "code",
   "execution_count": 64,
   "metadata": {},
   "outputs": [
    {
     "data": {
      "text/plain": [
       "count    46712.000000\n",
       "mean      2002.431731\n",
       "std          7.064689\n",
       "min       1910.000000\n",
       "25%       1999.000000\n",
       "50%       2003.000000\n",
       "75%       2007.000000\n",
       "max       2015.000000\n",
       "Name: registration_year, dtype: float64"
      ]
     },
     "execution_count": 64,
     "metadata": {},
     "output_type": "execute_result"
    }
   ],
   "source": [
    "carros_1['registration_year'].describe()"
   ]
  },
  {
   "cell_type": "code",
   "execution_count": 65,
   "metadata": {},
   "outputs": [
    {
     "name": "stdout",
     "output_type": "stream",
     "text": [
      "Agora temos 46712 colunas.\n"
     ]
    }
   ],
   "source": [
    "print(\"Agora temos\", len(carros_1), \"colunas.\")"
   ]
  },
  {
   "cell_type": "code",
   "execution_count": 66,
   "metadata": {},
   "outputs": [
    {
     "name": "stdout",
     "output_type": "stream",
     "text": [
      "<class 'pandas.core.frame.DataFrame'>\n",
      "Int64Index: 46712 entries, 0 to 49999\n",
      "Data columns (total 17 columns):\n",
      " #   Column             Non-Null Count  Dtype \n",
      "---  ------             --------------  ----- \n",
      " 0   date_crawled       46712 non-null  object\n",
      " 1   name               46712 non-null  object\n",
      " 2   price              46712 non-null  object\n",
      " 3   ab_test            46712 non-null  object\n",
      " 4   vehicle_type       46712 non-null  object\n",
      " 5   registration_year  46712 non-null  int64 \n",
      " 6   gearbox            46712 non-null  object\n",
      " 7   power_ps           46712 non-null  int64 \n",
      " 8   model              46712 non-null  object\n",
      " 9   odometer           46712 non-null  object\n",
      " 10  fuel_type          46712 non-null  object\n",
      " 11  brand              46712 non-null  object\n",
      " 12  unrepaired_damage  46712 non-null  object\n",
      " 13  ad_created         46712 non-null  object\n",
      " 14  last_seen          46712 non-null  object\n",
      " 15  price_$            46712 non-null  int64 \n",
      " 16  odometer_km        46712 non-null  int64 \n",
      "dtypes: int64(4), object(13)\n",
      "memory usage: 6.4+ MB\n"
     ]
    }
   ],
   "source": [
    "carros_1.info()"
   ]
  },
  {
   "cell_type": "code",
   "execution_count": 68,
   "metadata": {
    "scrolled": true
   },
   "outputs": [
    {
     "name": "stdout",
     "output_type": "stream",
     "text": [
      "Os dados agora contém 17 colunas e 46712 linhas\n"
     ]
    }
   ],
   "source": [
    "print(\"Os dados agora contém\", len(carros_1.columns), \"colunas e\", len(carros_1.index), \"linhas\" )"
   ]
  },
  {
   "cell_type": "markdown",
   "metadata": {},
   "source": [
    "Neste projeto guiado do DataQuest (que por enquanto é parcialmente completo), aprendemos como explorar, descrever, limpar e modificar as informações em um determinado arquivo CSV. Também exploramos filtragem, agregação e visualização de dados como métodos de análise."
   ]
  },
  {
   "cell_type": "code",
   "execution_count": null,
   "metadata": {},
   "outputs": [],
   "source": []
  }
 ],
 "metadata": {
  "kernelspec": {
   "display_name": "Python 3",
   "language": "python",
   "name": "python3"
  },
  "language_info": {
   "codemirror_mode": {
    "name": "ipython",
    "version": 3
   },
   "file_extension": ".py",
   "mimetype": "text/x-python",
   "name": "python",
   "nbconvert_exporter": "python",
   "pygments_lexer": "ipython3",
   "version": "3.8.2"
  }
 },
 "nbformat": 4,
 "nbformat_minor": 2
}
