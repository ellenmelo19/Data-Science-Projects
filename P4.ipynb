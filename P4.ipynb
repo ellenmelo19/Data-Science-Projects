{
 "cells": [
  {
   "cell_type": "markdown",
   "metadata": {
    "collapsed": true
   },
   "source": [
    " # Explorando o Hacker News"
   ]
  },
  {
   "cell_type": "markdown",
   "metadata": {},
   "source": [
    "O [Hacker News](https://news.ycombinator.com) é um site iniciado pela incubadora de startups Y Combinator, onde posts enviados por usuários  recebem votos e comentários. A plataforma é extremamente popular na área de tecnologia, e as postagens que chegam ao topo da listagem podem receber centenas de milhares de visitantes."
   ]
  },
  {
   "cell_type": "markdown",
   "metadata": {},
   "source": [
    "Os dados originais podem ser encontrados [aqui](https://www.kaggle.com/hacker-news/hacker-news-posts).\n",
    "Para esta análise, eliminamos os envios que não receberam comentários e mostramos aleatoriamente os envios restantes. As 7 colunas são descritas abaixo:"
   ]
  },
  {
   "cell_type": "markdown",
   "metadata": {},
   "source": [
    "* `id`\n",
    "\n",
    "\n",
    "* `Title:`- Título\n",
    "\n",
    "\n",
    "* `url`\n",
    "\n",
    "\n",
    "* `num_points`:- Número de pontos que o post adquiriu \n",
    "\n",
    " \n",
    "* `num_comments`:- Número de comentários no post\n",
    "\n",
    "\n",
    "* `author`:- Nome de usuário da pessoa que enviou o post\n",
    "\n",
    "\n",
    "* `created_at`:- Data e hora do envio do post\n"
   ]
  },
  {
   "cell_type": "markdown",
   "metadata": {},
   "source": [
    "## Abrindo e explorando "
   ]
  },
  {
   "cell_type": "code",
   "execution_count": 1,
   "metadata": {},
   "outputs": [],
   "source": [
    "from csv import reader\n",
    "import datetime as dt\n",
    "import plotly.express as px\n",
    "import plotly.graph_objects as go\n",
    "from plotly.subplots import make_subplots"
   ]
  },
  {
   "cell_type": "markdown",
   "metadata": {},
   "source": [
    "Criaremos agora, uma função chamada `extrair_dados()` que recebe um caminho de arquivo como argumento e retorna uma lista de listas. A função retornará as colunas e os dados separadamente."
   ]
  },
  {
   "cell_type": "code",
   "execution_count": 2,
   "metadata": {},
   "outputs": [],
   "source": [
    "def extrair_dados(filepath):\n",
    "    \n",
    "    abrir_arq = open(filepath)\n",
    "    ler_arq = reader(abrir_arq)\n",
    "    resultado = list(ler_arq)\n",
    "    \n",
    "    return resultado[0], resultado[1:]"
   ]
  },
  {
   "cell_type": "markdown",
   "metadata": {},
   "source": [
    "Vamos definir outra função chamada `explorar_dados()` para nos permitir exibir intervalos especificados de linhas em formato legível:"
   ]
  },
  {
   "cell_type": "code",
   "execution_count": 3,
   "metadata": {},
   "outputs": [],
   "source": [
    "def explorar_dados(dataset, cmc, fim, l_e_c=False):\n",
    "    \n",
    "    parte_dados = dataset[cmc:fim]    \n",
    "    for row in parte_dados:\n",
    "        print(row)\n",
    "        print('\\n')\n",
    "\n",
    "    if l_e_c:\n",
    "        print('Número de linhas: {:,}'.format(len(dataset)))\n",
    "        print('Número de colunas:', len(dataset[0]))"
   ]
  },
  {
   "cell_type": "markdown",
   "metadata": {},
   "source": [
    "Agora vamos utilizar as funções que criamos e analisar esses dados:"
   ]
  },
  {
   "cell_type": "code",
   "execution_count": 4,
   "metadata": {},
   "outputs": [
    {
     "name": "stdout",
     "output_type": "stream",
     "text": [
      "['id', 'title', 'url', 'num_points', 'num_comments', 'author', 'created_at'] \n",
      "\n",
      "['12224879', 'Interactive Dynamic Video', 'http://www.interactivedynamicvideo.com/', '386', '52', 'ne0phyte', '8/4/2016 11:52']\n",
      "\n",
      "\n",
      "['10975351', 'How to Use Open Source and Shut the Fuck Up at the Same Time', 'http://hueniverse.com/2016/01/26/how-to-use-open-source-and-shut-the-fuck-up-at-the-same-time/', '39', '10', 'josep2', '1/26/2016 19:30']\n",
      "\n",
      "\n",
      "['11964716', \"Florida DJs May Face Felony for April Fools' Water Joke\", 'http://www.thewire.com/entertainment/2013/04/florida-djs-april-fools-water-joke/63798/', '2', '1', 'vezycash', '6/23/2016 22:20']\n",
      "\n",
      "\n",
      "['11919867', 'Technology ventures: From Idea to Enterprise', 'https://www.amazon.com/Technology-Ventures-Enterprise-Thomas-Byers/dp/0073523429', '3', '1', 'hswarna', '6/17/2016 0:01']\n",
      "\n",
      "\n",
      "Número de linhas: 20,100\n",
      "Número de colunas: 7\n"
     ]
    }
   ],
   "source": [
    "# extrai o cabeçalho e os dados de 'hacker_news.csv'\n",
    "hn_cbc, hn = extrair_dados('hacker_news.csv')\n",
    "\n",
    "# imprime os cabeçalhos e explora as primeiras cinco linhas \n",
    "print(hn_cbc, '\\n')\n",
    "\n",
    "explorar_dados(hn, 0, 4, True)"
   ]
  },
  {
   "cell_type": "markdown",
   "metadata": {},
   "source": [
    "Os dados extraídos contêm um total de 20.100 linhas e 7 colunas. Porém algumas colunas serão extremamente úteis em nossa análise>:  - `title`, `num_points`, `num_comments` e `created_at`.\n"
   ]
  },
  {
   "cell_type": "markdown",
   "metadata": {},
   "source": [
    "## Trabalhando com Ask HN e Show HN"
   ]
  },
  {
   "cell_type": "markdown",
   "metadata": {},
   "source": [
    "Nesse momento, estamos interessados apenas em posts que começam com Ask HN ou Show HN. Assim, vamos criar novas listas contendo apenas os dados desses títulos e armazená-los nas variáveis correspondentes."
   ]
  },
  {
   "cell_type": "code",
   "execution_count": 5,
   "metadata": {},
   "outputs": [],
   "source": [
    "ask_posts = []\n",
    "show_posts = []\n",
    "outros_posts = []\n",
    "\n",
    "for row in hn:\n",
    "    title = row[1]\n",
    "\n",
    "#Para encontrar as postagens que começam com Ask HN ou Show HN usaremos string.startswith()\n",
    "#Usaremos o string.lower_method() para garantir que não haja diferença entre maiúsculas de minúsculas\n",
    "    if title.lower().startswith('show hn'):\n",
    "        show_posts.append(row)\n",
    "    elif title.lower().startswith('ask hn'):\n",
    "        ask_posts.append(row)\n",
    "    else:\n",
    "        outros_posts.append(row)"
   ]
  },
  {
   "cell_type": "markdown",
   "metadata": {},
   "source": [
    "Vamos verificar se tudo deu certo:"
   ]
  },
  {
   "cell_type": "code",
   "execution_count": 6,
   "metadata": {
    "scrolled": true
   },
   "outputs": [
    {
     "name": "stdout",
     "output_type": "stream",
     "text": [
      "No de Ask HN posts: 1,744 (9%)\n",
      "No de Show HN posts: 1,162 (6%)\n",
      "No de Outros posts: 17,194 (86%)\n",
      "True\n"
     ]
    }
   ],
   "source": [
    "template = '{}: {:,} ({:.0f}%)'\n",
    "\n",
    "print(template.format('No de Ask HN posts', len(ask_posts), 100*len(ask_posts)/len(hn)))\n",
    "print(template.format('No de Show HN posts', len(show_posts), 100*len(show_posts)/len(hn)))\n",
    "print(template.format('No de Outros posts', len(outros_posts), 100*len(outros_posts)/len(hn)))\n",
    "\n",
    "# verificando se nenhuma linha foi deixada sem categoria comparando os totais\n",
    "print(len(ask_posts) + len(show_posts) + len(outros_posts) == len(hn))"
   ]
  },
  {
   "cell_type": "markdown",
   "metadata": {},
   "source": [
    "Como podemos ver, 9% são postagens de usuários que fazem perguntas específicas, 6% são postagens de  um determinado assunto e 86% dessas postagens não são nem perguntar nem mostrar postagens .\n",
    "\n",
    " Vamos nos aprofundar mais um pouco e começar calculando o número médio de comentários em cada categoria."
   ]
  },
  {
   "cell_type": "markdown",
   "metadata": {},
   "source": [
    "## Número médio de comentários para cada categoria"
   ]
  },
  {
   "cell_type": "markdown",
   "metadata": {},
   "source": [
    "Para calcular o número médio de comentários, vamos definir uma função chamada `calcular_media()`:"
   ]
  },
  {
   "cell_type": "code",
   "execution_count": 7,
   "metadata": {},
   "outputs": [],
   "source": [
    "def calcular_media(dataset, index):\n",
    "    \n",
    "#calcula e retorna a média de todos os valores da coluna index\n",
    "    total = 0\n",
    "    n = len(dataset)\n",
    "    \n",
    "    for row in dataset:\n",
    "        total += int(row[index])\n",
    "        \n",
    "    resultado = total/n\n",
    "    return round(resultado,2)"
   ]
  },
  {
   "cell_type": "markdown",
   "metadata": {},
   "source": [
    "Chamaremos esta função para calcular as médias correspondentes para as postagens Show HN e Ask HN:"
   ]
  },
  {
   "cell_type": "code",
   "execution_count": 8,
   "metadata": {},
   "outputs": [
    {
     "name": "stdout",
     "output_type": "stream",
     "text": [
      "Ask HN: 14.04 comentários em média\n",
      "Show HN: 10.32 comentários em média\n"
     ]
    }
   ],
   "source": [
    "med_show = calcular_media(show_posts, 4)\n",
    "med_ask = calcular_media(ask_posts, 4)\n",
    "\n",
    "template = '{}: {} comentários em média'\n",
    "\n",
    "print(template.format('Ask HN', med_ask))\n",
    "print(template.format('Show HN', med_show))"
   ]
  },
  {
   "cell_type": "markdown",
   "metadata": {},
   "source": [
    "Podemos constatar então que  as postagens do Ask ganham mais interação do usuário, na forma de comentários, do que as postagens do show."
   ]
  },
  {
   "cell_type": "markdown",
   "metadata": {},
   "source": [
    "## Número de postagens e comentários por hora de criação"
   ]
  },
  {
   "cell_type": "markdown",
   "metadata": {},
   "source": [
    "Agora, trabalharemos no cálculo do número total de postagens e comentários em cada hora nas duas categorias. Usaremos o datetime para trabalhar com os dados na coluna `created_at`. Então, usaremos o construtor `datetime.strptime()` para analisar datas armazenadas como strings em objetos datetime.\n",
    "* Para isso vamos definir duas funções:\n",
    "    - Uma função `ordenar_hora()` que recebe um dicionário com horas como chaves e classifica cada chave no dicionário.\n",
    "    - Uma função `calcular_estat_tempo()`, que calcula estatísticas de tempo com base em um determinado índice. Esta função vai retornar dois dicionários: um contendo a frequência de postagens por hora, e outro contendo a soma do índice de medida (neste caso, o número de comentários) - agrupados por hora."
   ]
  },
  {
   "cell_type": "code",
   "execution_count": 9,
   "metadata": {},
   "outputs": [],
   "source": [
    "def ordenar_hora(dictionary):\n",
    "    resultado = {}\n",
    "    ord_alc = list(range(0, 24))\n",
    "    for hora in ord_alc:\n",
    "        resultado[hora] = dictionary[hora]\n",
    "    \n",
    "    return resultado"
   ]
  },
  {
   "cell_type": "code",
   "execution_count": 10,
   "metadata": {},
   "outputs": [],
   "source": [
    "def calcular_estat_tempo(dataset, t_index, m_index):\n",
    "\n",
    "    resultado_a = {}\n",
    "    resultado_b = {}\n",
    "    \n",
    "    for row in dataset:\n",
    "        criado = row[t_index]\n",
    "        formatado = dt.datetime.strptime(criado, '%m/%d/%Y %H:%M')\n",
    "        hour = formatado.hour\n",
    "        n_comentarios = int(row[m_index])\n",
    "        \n",
    "        if hour in resultado_a:\n",
    "            resultado_a[hour] +=1\n",
    "            resultado_b[hour] +=n_comentarios\n",
    "        else:\n",
    "            resultado_a[hour] = 1\n",
    "            resultado_b[hour] = n_comentarios\n",
    "    \n",
    "    return ordenar_hora(resultado_a), ordenar_hora(resultado_b)#classifica cada dicionário de resultados por hora"
   ]
  },
  {
   "cell_type": "markdown",
   "metadata": {},
   "source": [
    "Agora vamos calcular as estatísticas das postagens Ask HN e Show HN:"
   ]
  },
  {
   "cell_type": "code",
   "execution_count": 11,
   "metadata": {},
   "outputs": [],
   "source": [
    "# armazena o número de posts e comentários do ask por hora em variáveis separadas\n",
    "ask_h_h_p, ask_h_h_c = calcular_estat_tempo(ask_posts, 6,4)\n",
    "\n",
    "# armazena o número de posts e comentários do show por hora em variáveis separadas\n",
    "show_h_h_p, show_h_h_c = calcular_estat_tempo(show_posts, 6,4)"
   ]
  },
  {
   "cell_type": "code",
   "execution_count": 24,
   "metadata": {
    "scrolled": true
   },
   "outputs": [
    {
     "name": "stdout",
     "output_type": "stream",
     "text": [
      "{0: 55, 1: 60, 2: 58, 3: 54, 4: 47, 5: 46, 6: 44, 7: 34, 8: 48, 9: 45, 10: 59, 11: 58, 12: 73, 13: 85, 14: 107, 15: 116, 16: 108, 17: 100, 18: 109, 19: 110, 20: 80, 21: 109, 22: 71, 23: 68}\n",
      "{0: 31, 1: 28, 2: 30, 3: 27, 4: 26, 5: 19, 6: 16, 7: 26, 8: 34, 9: 30, 10: 36, 11: 44, 12: 61, 13: 99, 14: 86, 15: 78, 16: 93, 17: 93, 18: 61, 19: 55, 20: 60, 21: 47, 22: 46, 23: 36}\n"
     ]
    }
   ],
   "source": [
    "print(ask_h_h_p)\n",
    "print(show_h_h_p)"
   ]
  },
  {
   "cell_type": "markdown",
   "metadata": {},
   "source": [
    "Os posts Ask são mais comuns às 15:00, 19:00, 21:00, 18:00 e 16:00, e os posts Show são mais comuns às 13:00, 16:00, 17:00 14:00 e 15:00. Geralmente, a cada hora, há mais usuários fazendo perguntas do que aqueles que estão mostrando um conteúdo específico para a comunidade. \n",
    "Apenas às 13:00, vemos o maior aumento no número de postagens de HN de shows.\n",
    "\n",
    "Em seguida, vamos visualizar o número total de comentários por hora das postagens Ask HN e Show HN."
   ]
  },
  {
   "cell_type": "code",
   "execution_count": 25,
   "metadata": {},
   "outputs": [
    {
     "name": "stdout",
     "output_type": "stream",
     "text": [
      "{0: 447, 1: 683, 2: 1381, 3: 421, 4: 337, 5: 464, 6: 397, 7: 267, 8: 492, 9: 251, 10: 793, 11: 641, 12: 687, 13: 1253, 14: 1416, 15: 4477, 16: 1814, 17: 1146, 18: 1439, 19: 1188, 20: 1722, 21: 1745, 22: 479, 23: 543}\n",
      "{0: 487, 1: 246, 2: 127, 3: 287, 4: 247, 5: 58, 6: 142, 7: 299, 8: 165, 9: 291, 10: 297, 11: 491, 12: 720, 13: 946, 14: 1156, 15: 632, 16: 1084, 17: 911, 18: 962, 19: 539, 20: 612, 21: 272, 22: 570, 23: 447}\n"
     ]
    }
   ],
   "source": [
    "print(ask_h_h_c)\n",
    "print(show_h_h_c)"
   ]
  },
  {
   "cell_type": "markdown",
   "metadata": {},
   "source": [
    "Podemos ver que, geralmente, as postagens do Ask recebem mais comentários do que as postagens do Show. Com base na visualização acima, é fácil supor que as pessoas que fazem perguntas são mais propensas a receber comentários em suas postagens do que as pessoas que exibem um conteúdo específico.\n",
    "As horas com o maior número de comentários para as postagens do Ask são 15:00, 16:00, 21:00, 20:00 e 18:00, enquanto as horas que parecem promissoras para garantir os comentários da postagem são 14:00, 16:00, 18:00, 13:00 e 17:00.\n",
    "\n",
    "Vamos explorar mais e tentar calcular o número médio de comentários por hora para as postagens Ask e Show."
   ]
  },
  {
   "cell_type": "markdown",
   "metadata": {},
   "source": [
    "## Média de comentários por hora"
   ]
  },
  {
   "cell_type": "markdown",
   "metadata": {},
   "source": [
    "Tenhamos em mente a relação:\n",
    "\n",
    "Média de comentários por hora = Número total de comentários por hora / Número de postagens por hora\n",
    "\n",
    "Vamos definir uma função chamada `calc_med()` para calcular o número médio de comentários para as postagens Ask HN e Show HN:"
   ]
  },
  {
   "cell_type": "code",
   "execution_count": 26,
   "metadata": {},
   "outputs": [],
   "source": [
    "def calc_med(dic_a, dic_b):\n",
    "    resultado = []\n",
    "    \n",
    "    for key in dic_a:\n",
    "        media = dic_b[key]/dic_a[key]\n",
    "        media = round(media) # arredonda os resultados para o número inteiro mais próximo\n",
    "        resultado.append([key, media])\n",
    "        \n",
    "    return resultado"
   ]
  },
  {
   "cell_type": "code",
   "execution_count": 27,
   "metadata": {},
   "outputs": [],
   "source": [
    "med_ask_c = calc_med(ask_h_h_p, ask_h_h_c)\n",
    "med_show_c = calc_med(show_h_h_p, show_h_h_c)"
   ]
  },
  {
   "cell_type": "code",
   "execution_count": 28,
   "metadata": {},
   "outputs": [
    {
     "name": "stdout",
     "output_type": "stream",
     "text": [
      "[[0, 8], [1, 11], [2, 24], [3, 8], [4, 7], [5, 10], [6, 9], [7, 8], [8, 10], [9, 6], [10, 13], [11, 11], [12, 9], [13, 15], [14, 13], [15, 39], [16, 17], [17, 11], [18, 13], [19, 11], [20, 22], [21, 16], [22, 7], [23, 8]]\n",
      "[[0, 16], [1, 9], [2, 4], [3, 11], [4, 10], [5, 3], [6, 9], [7, 12], [8, 5], [9, 10], [10, 8], [11, 11], [12, 12], [13, 10], [14, 13], [15, 8], [16, 12], [17, 10], [18, 16], [19, 10], [20, 10], [21, 6], [22, 12], [23, 12]]\n"
     ]
    }
   ],
   "source": [
    "print(med_ask_c)\n",
    "print(med_show_c)"
   ]
  },
  {
   "cell_type": "markdown",
   "metadata": {},
   "source": [
    "Observando cuidadosamente, notamos que quando as postagens Ask registram mais comentários (15:00, 20:00, 16:00 e 02:00), elas superam significativamente aquelas vistas com postagens Show. No entanto, quando as postagens Show registram mais comentários, eles são apenas um pouco maiores do que os registrados ao mesmo tempo para as postagens do Ask\n",
    "\n",
    "Então, como podemos obter informações sobre as cinco principais horas para criar postagens em ordem decrescente, sem usar gráficos ou visualizações complexas? Vamos definir duas funções que nos ajudam a atingir esse objetivo abaixo:"
   ]
  },
  {
   "cell_type": "markdown",
   "metadata": {},
   "source": [
    "## Classificando e Imprimindo de Listas de Listas"
   ]
  },
  {
   "cell_type": "markdown",
   "metadata": {},
   "source": [
    "A `ord_lista()` receberá nossas listas contendo a média de comentários Show e Ask e retornará uma lista de médias de comentários em ordem decrescente:"
   ]
  },
  {
   "cell_type": "code",
   "execution_count": 31,
   "metadata": {},
   "outputs": [],
   "source": [
    "def ord_lista(lista_de_lista):\n",
    "    \n",
    "    lista_temp = []\n",
    "    resultado = []\n",
    "\n",
    "    for row in lista_de_lista:\n",
    "        lista_temp.append([row[1], row[0]])\n",
    "\n",
    "    lista_dec = sorted(lista_temp, reverse=True)\n",
    "    \n",
    "    for row in lista_dec:\n",
    "        resultado.append([row[1], row[0]])\n",
    "    \n",
    "    return resultado"
   ]
  },
  {
   "cell_type": "code",
   "execution_count": 32,
   "metadata": {},
   "outputs": [],
   "source": [
    "# classifica as listas \n",
    "\n",
    "com_ask_ord = ord_lista(med_ask_c)\n",
    "com_show_ord = ord_lista(med_show_c)"
   ]
  },
  {
   "cell_type": "markdown",
   "metadata": {},
   "source": [
    "Finalmente, a função `print_melhores_horas()` imprimirá as melhores horas para criar postagens Ask ou Show de nossa lista ordenada de listas:"
   ]
  },
  {
   "cell_type": "code",
   "execution_count": 35,
   "metadata": {},
   "outputs": [],
   "source": [
    "def print_melhores_horas(dataset, medida, post_nome):\n",
    "    \n",
    "    print('Top 5 horas para {}  {}:'. format(medida,post_nome))\n",
    "    print('-'*45)\n",
    "\n",
    "    contador = 0\n",
    "\n",
    "    for row in dataset:\n",
    "        if contador < 5:\n",
    "            template = '{}: media {} por post - {}'\n",
    "            valor = row[1]\n",
    "            horas = row[0]\n",
    "            horas = dt.time(hour=horas)\n",
    "            template = template.format(horas,medida,valor)\n",
    "            print(template)\n",
    "            contador +=1\n",
    "        else:\n",
    "            break"
   ]
  },
  {
   "cell_type": "code",
   "execution_count": 36,
   "metadata": {},
   "outputs": [
    {
     "name": "stdout",
     "output_type": "stream",
     "text": [
      "Top 5 horas para comentários  Ask HN:\n",
      "---------------------------------------------\n",
      "15:00:00: media comentários por post - 39\n",
      "02:00:00: media comentários por post - 24\n",
      "20:00:00: media comentários por post - 22\n",
      "16:00:00: media comentários por post - 17\n",
      "21:00:00: media comentários por post - 16\n",
      "\n",
      "\n",
      "Top 5 horas para comentários  Show HN:\n",
      "---------------------------------------------\n",
      "18:00:00: media comentários por post - 16\n",
      "00:00:00: media comentários por post - 16\n",
      "14:00:00: media comentários por post - 13\n",
      "23:00:00: media comentários por post - 12\n",
      "22:00:00: media comentários por post - 12\n"
     ]
    }
   ],
   "source": [
    "print_melhores_horas(com_ask_ord, 'comentários', 'Ask HN')\n",
    "\n",
    "print('\\n')\n",
    "print_melhores_horas(com_show_ord, 'comentários', 'Show HN')"
   ]
  },
  {
   "cell_type": "markdown",
   "metadata": {},
   "source": [
    "Ora, o número médio de comentários Ask excede os das postagens Show nas 5 principais horas exibidas acima. \n",
    "Às 15:00, as postagens Ask recebem mais de 100% de comentários, em média, do que as médias mais altas obtidas com postagens Show a qualquer hora do dia! Esta informação reforça algumas das observações que fizemos anteriormente.\n",
    "\n",
    "Assim, o melhor horário para criar postagens Ask é às 15:00. Os usuários que desejam compartilhar conteúdo com a comunidade na forma de postagens Show podem considerar criar essas postagens às 18:00 ou 00:00."
   ]
  },
  {
   "cell_type": "markdown",
   "metadata": {},
   "source": [
    "## Conclusão"
   ]
  },
  {
   "cell_type": "markdown",
   "metadata": {},
   "source": [
    "Neste projeto, analisamos os dados do Hacker News para determinar quais postagens geram mais engajamento. Nós nos concentramos principalmente nas categorias Ask HN e Show HN. \n",
    "Com base em nossa análise, recomendamos que os usuários criem postagens do Ask por volta das 15:00. \n",
    "\n",
    "O comportamento observado com as postagens Ask e postagens Show pode ser devido, em parte, ao fato de as postagens Ask serem majoritariamente perguntas. As perguntas acenam para que outras pessoas da comunidade forneçam suporte, que geralmente seria fornecido na forma de comentários ou respostas. Mostrar postagens, por outro lado, exigiria alguma criatividade para capturar a multidão, e os usuários que postarem algo interessante provavelmente serão recompensados com votos positivos que determinam o número total de pontos a longo prazo."
   ]
  },
  {
   "cell_type": "code",
   "execution_count": null,
   "metadata": {},
   "outputs": [],
   "source": []
  }
 ],
 "metadata": {
  "kernelspec": {
   "display_name": "Python 3",
   "language": "python",
   "name": "python3"
  },
  "language_info": {
   "codemirror_mode": {
    "name": "ipython",
    "version": 3
   },
   "file_extension": ".py",
   "mimetype": "text/x-python",
   "name": "python",
   "nbconvert_exporter": "python",
   "pygments_lexer": "ipython3",
   "version": "3.8.2"
  }
 },
 "nbformat": 4,
 "nbformat_minor": 2
}
